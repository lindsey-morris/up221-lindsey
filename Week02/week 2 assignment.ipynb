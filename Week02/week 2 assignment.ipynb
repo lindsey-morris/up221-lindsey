{
 "cells": [
  {
   "cell_type": "markdown",
   "id": "98c631c3-e17d-469f-9805-34d4209fb7d9",
   "metadata": {},
   "source": [
    "# Week 2 Data Exploration\n",
    "\n",
    "#### I am importing Philadelphia Parks & Recreation Program Sites (pprsites) data and conducting data exploration. Point location features for all PPR Program site locations. This dataset includes recreation centers, playgrounds, older adult centers, swimming pools, and environmental education centers. This data may be used to differentiate the public access to parks and recreation for communities across Philadelphia, particularly the Logan Triangle. I will document my steps and my preliminary findings. \n"
   ]
  },
  {
   "cell_type": "code",
   "execution_count": 8,
   "id": "e67ce1cf-f1ec-4c58-94cf-bfdcd8b8dfd6",
   "metadata": {
    "tags": []
   },
   "outputs": [],
   "source": [
    "import matplotlib.pyplot as plt\n",
    "import pandas as pd\n",
    "import geopandas as gpd"
   ]
  },
  {
   "cell_type": "markdown",
   "id": "e378d73e-d46d-45b4-b90a-cc37155c7c16",
   "metadata": {},
   "source": [
    "##### Import CSV file of all Philadelphia Parks and Recreation Program Sites"
   ]
  },
  {
   "cell_type": "code",
   "execution_count": 10,
   "id": "f02b6294-74e9-4b04-84ed-66922a0bfa2e",
   "metadata": {},
   "outputs": [],
   "source": [
    "pprsites = gpd.read_file('PPRSites.csv')"
   ]
  },
  {
   "cell_type": "markdown",
   "id": "e283f978-bfd7-4c8c-81ab-b653afae02cb",
   "metadata": {},
   "source": [
    "##### Print the first 5 rows of data so see all the columns in the dataset "
   ]
  },
  {
   "cell_type": "code",
   "execution_count": 11,
   "id": "a0ec5ab8-2480-490e-8d78-b4b5ddc164e8",
   "metadata": {},
   "outputs": [
    {
     "data": {
      "text/html": [
       "<div>\n",
       "<style scoped>\n",
       "    .dataframe tbody tr th:only-of-type {\n",
       "        vertical-align: middle;\n",
       "    }\n",
       "\n",
       "    .dataframe tbody tr th {\n",
       "        vertical-align: top;\n",
       "    }\n",
       "\n",
       "    .dataframe thead th {\n",
       "        text-align: right;\n",
       "    }\n",
       "</style>\n",
       "<table border=\"1\" class=\"dataframe\">\n",
       "  <thead>\n",
       "    <tr style=\"text-align: right;\">\n",
       "      <th></th>\n",
       "      <th>X</th>\n",
       "      <th>Y</th>\n",
       "      <th>OBJECTID</th>\n",
       "      <th>PARK_NAME</th>\n",
       "      <th>DPP_ASSET_ID</th>\n",
       "      <th>PROGRAM_TYPE</th>\n",
       "      <th>SITE_CLASS</th>\n",
       "      <th>BUILDING</th>\n",
       "      <th>GYM</th>\n",
       "      <th>LABEL_NUMBER</th>\n",
       "      <th>COMMENTS</th>\n",
       "      <th>DATA_SOURCE</th>\n",
       "      <th>geometry</th>\n",
       "    </tr>\n",
       "  </thead>\n",
       "  <tbody>\n",
       "    <tr>\n",
       "      <th>0</th>\n",
       "      <td>-75.1636341891681</td>\n",
       "      <td>40.053862669122</td>\n",
       "      <td>1</td>\n",
       "      <td>Awbury Park and Recreation Center</td>\n",
       "      <td>604</td>\n",
       "      <td>PPR_REC</td>\n",
       "      <td>B</td>\n",
       "      <td>Y</td>\n",
       "      <td>N</td>\n",
       "      <td></td>\n",
       "      <td></td>\n",
       "      <td>Programs 11/2022</td>\n",
       "      <td>None</td>\n",
       "    </tr>\n",
       "    <tr>\n",
       "      <th>1</th>\n",
       "      <td>-75.0075107483677</td>\n",
       "      <td>40.1228431723608</td>\n",
       "      <td>2</td>\n",
       "      <td>Daniel Boyle Memorial Recreation Center</td>\n",
       "      <td>1843</td>\n",
       "      <td>PPR_REC</td>\n",
       "      <td>B</td>\n",
       "      <td>Y</td>\n",
       "      <td>N</td>\n",
       "      <td></td>\n",
       "      <td></td>\n",
       "      <td>Programs 11/2022</td>\n",
       "      <td>None</td>\n",
       "    </tr>\n",
       "    <tr>\n",
       "      <th>2</th>\n",
       "      <td>-75.1698319055514</td>\n",
       "      <td>40.0646864811466</td>\n",
       "      <td>3</td>\n",
       "      <td>Charles M Finley Playground</td>\n",
       "      <td>1989</td>\n",
       "      <td>PPR_REC</td>\n",
       "      <td>A</td>\n",
       "      <td>Y</td>\n",
       "      <td>Y</td>\n",
       "      <td></td>\n",
       "      <td></td>\n",
       "      <td>Programs 11/2022</td>\n",
       "      <td>None</td>\n",
       "    </tr>\n",
       "    <tr>\n",
       "      <th>3</th>\n",
       "      <td>-75.1747635378688</td>\n",
       "      <td>40.0022212258066</td>\n",
       "      <td>4</td>\n",
       "      <td>James Allen Shuler Playground</td>\n",
       "      <td>1878</td>\n",
       "      <td>PPR_REC</td>\n",
       "      <td>B</td>\n",
       "      <td>Y</td>\n",
       "      <td>N</td>\n",
       "      <td></td>\n",
       "      <td></td>\n",
       "      <td>Programs 11/2022</td>\n",
       "      <td>None</td>\n",
       "    </tr>\n",
       "    <tr>\n",
       "      <th>4</th>\n",
       "      <td>-75.1715193626166</td>\n",
       "      <td>39.9421185311373</td>\n",
       "      <td>5</td>\n",
       "      <td>Marian Anderson Recreation Center</td>\n",
       "      <td>1901</td>\n",
       "      <td>PPR_REC</td>\n",
       "      <td>A</td>\n",
       "      <td>Y</td>\n",
       "      <td>Y</td>\n",
       "      <td></td>\n",
       "      <td></td>\n",
       "      <td>Programs 11/2022</td>\n",
       "      <td>None</td>\n",
       "    </tr>\n",
       "  </tbody>\n",
       "</table>\n",
       "</div>"
      ],
      "text/plain": [
       "                   X                 Y OBJECTID  \\\n",
       "0  -75.1636341891681   40.053862669122        1   \n",
       "1  -75.0075107483677  40.1228431723608        2   \n",
       "2  -75.1698319055514  40.0646864811466        3   \n",
       "3  -75.1747635378688  40.0022212258066        4   \n",
       "4  -75.1715193626166  39.9421185311373        5   \n",
       "\n",
       "                                 PARK_NAME DPP_ASSET_ID PROGRAM_TYPE  \\\n",
       "0        Awbury Park and Recreation Center          604      PPR_REC   \n",
       "1  Daniel Boyle Memorial Recreation Center         1843      PPR_REC   \n",
       "2              Charles M Finley Playground         1989      PPR_REC   \n",
       "3            James Allen Shuler Playground         1878      PPR_REC   \n",
       "4        Marian Anderson Recreation Center         1901      PPR_REC   \n",
       "\n",
       "  SITE_CLASS BUILDING GYM LABEL_NUMBER COMMENTS       DATA_SOURCE geometry  \n",
       "0          B        Y   N                        Programs 11/2022     None  \n",
       "1          B        Y   N                        Programs 11/2022     None  \n",
       "2          A        Y   Y                        Programs 11/2022     None  \n",
       "3          B        Y   N                        Programs 11/2022     None  \n",
       "4          A        Y   Y                        Programs 11/2022     None  "
      ]
     },
     "execution_count": 11,
     "metadata": {},
     "output_type": "execute_result"
    }
   ],
   "source": [
    "pprsites.head()"
   ]
  },
  {
   "cell_type": "markdown",
   "id": "a66df58c-17e3-46f3-82d5-37012bf413c4",
   "metadata": {},
   "source": [
    "##### Add Geometry to CSV file"
   ]
  },
  {
   "cell_type": "code",
   "execution_count": 12,
   "id": "5051be17-566a-4295-b6e5-8761b5b32b84",
   "metadata": {},
   "outputs": [
    {
     "data": {
      "text/html": [
       "<div>\n",
       "<style scoped>\n",
       "    .dataframe tbody tr th:only-of-type {\n",
       "        vertical-align: middle;\n",
       "    }\n",
       "\n",
       "    .dataframe tbody tr th {\n",
       "        vertical-align: top;\n",
       "    }\n",
       "\n",
       "    .dataframe thead th {\n",
       "        text-align: right;\n",
       "    }\n",
       "</style>\n",
       "<table border=\"1\" class=\"dataframe\">\n",
       "  <thead>\n",
       "    <tr style=\"text-align: right;\">\n",
       "      <th></th>\n",
       "      <th>X</th>\n",
       "      <th>Y</th>\n",
       "      <th>OBJECTID</th>\n",
       "      <th>PARK_NAME</th>\n",
       "      <th>DPP_ASSET_ID</th>\n",
       "      <th>PROGRAM_TYPE</th>\n",
       "      <th>SITE_CLASS</th>\n",
       "      <th>BUILDING</th>\n",
       "      <th>GYM</th>\n",
       "      <th>LABEL_NUMBER</th>\n",
       "      <th>COMMENTS</th>\n",
       "      <th>DATA_SOURCE</th>\n",
       "      <th>geometry</th>\n",
       "    </tr>\n",
       "  </thead>\n",
       "  <tbody>\n",
       "    <tr>\n",
       "      <th>0</th>\n",
       "      <td>-75.163634</td>\n",
       "      <td>40.053863</td>\n",
       "      <td>1</td>\n",
       "      <td>Awbury Park and Recreation Center</td>\n",
       "      <td>604</td>\n",
       "      <td>PPR_REC</td>\n",
       "      <td>B</td>\n",
       "      <td>Y</td>\n",
       "      <td>N</td>\n",
       "      <td>NaN</td>\n",
       "      <td></td>\n",
       "      <td>Programs 11/2022</td>\n",
       "      <td>POINT (-75.16363 40.05386)</td>\n",
       "    </tr>\n",
       "    <tr>\n",
       "      <th>1</th>\n",
       "      <td>-75.007511</td>\n",
       "      <td>40.122843</td>\n",
       "      <td>2</td>\n",
       "      <td>Daniel Boyle Memorial Recreation Center</td>\n",
       "      <td>1843</td>\n",
       "      <td>PPR_REC</td>\n",
       "      <td>B</td>\n",
       "      <td>Y</td>\n",
       "      <td>N</td>\n",
       "      <td>NaN</td>\n",
       "      <td></td>\n",
       "      <td>Programs 11/2022</td>\n",
       "      <td>POINT (-75.00751 40.12284)</td>\n",
       "    </tr>\n",
       "    <tr>\n",
       "      <th>2</th>\n",
       "      <td>-75.169832</td>\n",
       "      <td>40.064686</td>\n",
       "      <td>3</td>\n",
       "      <td>Charles M Finley Playground</td>\n",
       "      <td>1989</td>\n",
       "      <td>PPR_REC</td>\n",
       "      <td>A</td>\n",
       "      <td>Y</td>\n",
       "      <td>Y</td>\n",
       "      <td>NaN</td>\n",
       "      <td></td>\n",
       "      <td>Programs 11/2022</td>\n",
       "      <td>POINT (-75.16983 40.06469)</td>\n",
       "    </tr>\n",
       "    <tr>\n",
       "      <th>3</th>\n",
       "      <td>-75.174764</td>\n",
       "      <td>40.002221</td>\n",
       "      <td>4</td>\n",
       "      <td>James Allen Shuler Playground</td>\n",
       "      <td>1878</td>\n",
       "      <td>PPR_REC</td>\n",
       "      <td>B</td>\n",
       "      <td>Y</td>\n",
       "      <td>N</td>\n",
       "      <td>NaN</td>\n",
       "      <td></td>\n",
       "      <td>Programs 11/2022</td>\n",
       "      <td>POINT (-75.17476 40.00222)</td>\n",
       "    </tr>\n",
       "    <tr>\n",
       "      <th>4</th>\n",
       "      <td>-75.171519</td>\n",
       "      <td>39.942119</td>\n",
       "      <td>5</td>\n",
       "      <td>Marian Anderson Recreation Center</td>\n",
       "      <td>1901</td>\n",
       "      <td>PPR_REC</td>\n",
       "      <td>A</td>\n",
       "      <td>Y</td>\n",
       "      <td>Y</td>\n",
       "      <td>NaN</td>\n",
       "      <td></td>\n",
       "      <td>Programs 11/2022</td>\n",
       "      <td>POINT (-75.17152 39.94212)</td>\n",
       "    </tr>\n",
       "  </tbody>\n",
       "</table>\n",
       "</div>"
      ],
      "text/plain": [
       "           X          Y  OBJECTID                                PARK_NAME  \\\n",
       "0 -75.163634  40.053863         1        Awbury Park and Recreation Center   \n",
       "1 -75.007511  40.122843         2  Daniel Boyle Memorial Recreation Center   \n",
       "2 -75.169832  40.064686         3              Charles M Finley Playground   \n",
       "3 -75.174764  40.002221         4            James Allen Shuler Playground   \n",
       "4 -75.171519  39.942119         5        Marian Anderson Recreation Center   \n",
       "\n",
       "   DPP_ASSET_ID PROGRAM_TYPE SITE_CLASS BUILDING GYM  LABEL_NUMBER COMMENTS  \\\n",
       "0           604      PPR_REC          B        Y   N           NaN            \n",
       "1          1843      PPR_REC          B        Y   N           NaN            \n",
       "2          1989      PPR_REC          A        Y   Y           NaN            \n",
       "3          1878      PPR_REC          B        Y   N           NaN            \n",
       "4          1901      PPR_REC          A        Y   Y           NaN            \n",
       "\n",
       "        DATA_SOURCE                    geometry  \n",
       "0  Programs 11/2022  POINT (-75.16363 40.05386)  \n",
       "1  Programs 11/2022  POINT (-75.00751 40.12284)  \n",
       "2  Programs 11/2022  POINT (-75.16983 40.06469)  \n",
       "3  Programs 11/2022  POINT (-75.17476 40.00222)  \n",
       "4  Programs 11/2022  POINT (-75.17152 39.94212)  "
      ]
     },
     "execution_count": 12,
     "metadata": {},
     "output_type": "execute_result"
    }
   ],
   "source": [
    "from shapely.geometry import Point\n",
    "\n",
    "# Read in the CSV File \n",
    "\n",
    "pprsites = pd.read_csv('PPRSites.csv')\n",
    "\n",
    "# Create a geometry column from the coordinate columns\n",
    "pprsites['geometry'] = pprsites.apply(lambda X: Point(X.X, X.Y), axis=1)\n",
    "\n",
    "# Create a GeoDataFrame\n",
    "gdf = gpd.GeoDataFrame(pprsites, geometry='geometry')\n",
    "\n",
    "# Confirm Geometry added\n",
    "pprsites.head()\n"
   ]
  },
  {
   "cell_type": "markdown",
   "id": "e3f8c738-3217-41f7-9432-eca8d62be879",
   "metadata": {},
   "source": [
    "##### Output above shows the first 5 rows of data in the pprsites dataset\n",
    "\n",
    "##### Next, count the number of rows and columns in the dataset"
   ]
  },
  {
   "cell_type": "code",
   "execution_count": 13,
   "id": "4259aada-1750-479f-a196-3951ff331782",
   "metadata": {},
   "outputs": [
    {
     "data": {
      "text/plain": [
       "(222, 13)"
      ]
     },
     "execution_count": 13,
     "metadata": {},
     "output_type": "execute_result"
    }
   ],
   "source": [
    "pprsites.shape"
   ]
  },
  {
   "cell_type": "markdown",
   "id": "3b808673-d1c8-4f52-8299-549bd89c3467",
   "metadata": {},
   "source": [
    "##### Output above shows the number of rows and columns in the pprsites dataset\n",
    "\n",
    "##### Next, examine the dataset information"
   ]
  },
  {
   "cell_type": "code",
   "execution_count": 14,
   "id": "b3fa7225-c90e-4c39-b71e-f0ba24d96a8c",
   "metadata": {},
   "outputs": [
    {
     "name": "stdout",
     "output_type": "stream",
     "text": [
      "<class 'pandas.core.frame.DataFrame'>\n",
      "RangeIndex: 222 entries, 0 to 221\n",
      "Data columns (total 13 columns):\n",
      " #   Column        Non-Null Count  Dtype   \n",
      "---  ------        --------------  -----   \n",
      " 0   X             222 non-null    float64 \n",
      " 1   Y             222 non-null    float64 \n",
      " 2   OBJECTID      222 non-null    int64   \n",
      " 3   PARK_NAME     222 non-null    object  \n",
      " 4   DPP_ASSET_ID  222 non-null    int64   \n",
      " 5   PROGRAM_TYPE  222 non-null    object  \n",
      " 6   SITE_CLASS    222 non-null    object  \n",
      " 7   BUILDING      222 non-null    object  \n",
      " 8   GYM           222 non-null    object  \n",
      " 9   LABEL_NUMBER  0 non-null      float64 \n",
      " 10  COMMENTS      197 non-null    object  \n",
      " 11  DATA_SOURCE   222 non-null    object  \n",
      " 12  geometry      222 non-null    geometry\n",
      "dtypes: float64(3), geometry(1), int64(2), object(7)\n",
      "memory usage: 22.7+ KB\n"
     ]
    }
   ],
   "source": [
    "pprsites.info()"
   ]
  },
  {
   "cell_type": "markdown",
   "id": "33612061-d985-4cd8-9fd3-4389b82d234a",
   "metadata": {},
   "source": [
    "##### Output above shows the columns, data types, and number of null values within each column.\n",
    "\n",
    "##### Next, count how many PPR Sites don't have or have a gym "
   ]
  },
  {
   "cell_type": "code",
   "execution_count": 15,
   "id": "efded08d-75d6-4e52-951b-b5c7463bb437",
   "metadata": {},
   "outputs": [
    {
     "data": {
      "text/plain": [
       "N    162\n",
       "Y     60\n",
       "Name: GYM, dtype: int64"
      ]
     },
     "execution_count": 15,
     "metadata": {},
     "output_type": "execute_result"
    }
   ],
   "source": [
    "pprsites['GYM'].value_counts()"
   ]
  },
  {
   "cell_type": "markdown",
   "id": "ae7819a6-9ce7-4e22-9e52-e35dd6591f13",
   "metadata": {},
   "source": [
    "##### Output above shows how many PPR Sites don't have or have a gym\n",
    "\n",
    "##### Next, plot where PPR sites with and without a gym are located"
   ]
  },
  {
   "cell_type": "code",
   "execution_count": 16,
   "id": "ad816b35-2e4c-49ee-929b-1413a23012ba",
   "metadata": {},
   "outputs": [
    {
     "data": {
      "text/plain": [
       "<AxesSubplot: >"
      ]
     },
     "execution_count": 16,
     "metadata": {},
     "output_type": "execute_result"
    },
    {
     "data": {
      "image/png": "[encoded data removed]",
      "text/plain": [
       "<Figure size 2000x1200 with 1 Axes>"
      ]
     },
     "metadata": {},
     "output_type": "display_data"
    }
   ],
   "source": [
    "gdf.plot(\n",
    "            figsize=(20,12),   #size of the plot (a bit bigger than the default)\n",
    "            column = 'GYM',   # column that defines the color of the dots\n",
    "            legend = True,     # add a legend           \n",
    "            markersize = 3,\n",
    "            legend_kwds={\n",
    "               'loc': 'upper right',\n",
    "               'bbox_to_anchor':(1,1)\n",
    "            }                  # this puts the legend to the side\n",
    ")"
   ]
  },
  {
   "cell_type": "markdown",
   "id": "a36886cd-37c0-4ed1-8867-e2f15a5fa3f5",
   "metadata": {},
   "source": [
    "##### Plot above shows where Parks and Recreational Sites with and without a gym are geographically in the City of Philadelphia based on the geography provided in the geojson dataset.\n",
    "\n",
    "\n",
    "##### Then, I filter data to view PPR Sites without a gym"
   ]
  },
  {
   "cell_type": "code",
   "execution_count": 46,
   "id": "c25691a7-da77-4596-b61e-a9ee06ce7730",
   "metadata": {},
   "outputs": [],
   "source": [
    "nogym_pprsites = pprsites.loc[pprsites['GYM'].isin(['Y'])] "
   ]
  },
  {
   "cell_type": "markdown",
   "id": "dcf404c7-754a-4575-a589-0ce3e57c2d22",
   "metadata": {},
   "source": [
    "##### Next, check that data filtered correctly"
   ]
  },
  {
   "cell_type": "code",
   "execution_count": 47,
   "id": "0b924f7d-0008-4598-b596-d80649e252ec",
   "metadata": {},
   "outputs": [
    {
     "data": {
      "text/plain": [
       "Y    60\n",
       "Name: GYM, dtype: int64"
      ]
     },
     "execution_count": 47,
     "metadata": {},
     "output_type": "execute_result"
    }
   ],
   "source": [
    "nogym_pprsites['GYM'].value_counts()"
   ]
  },
  {
   "cell_type": "markdown",
   "id": "ca15afc0-c8ce-4a3c-abeb-95c83333ecc5",
   "metadata": {},
   "source": [
    "##### Output above shows that just the PPR Sites with a gym are in the filtered dataset.\n",
    "\n",
    "##### Next, I import contextily library to add a basemap to the plotted data. I use a standard projection of 4326."
   ]
  },
  {
   "cell_type": "code",
   "execution_count": 42,
   "id": "8fe1c079-b862-42bd-a8ea-3eb278cfd0ce",
   "metadata": {},
   "outputs": [
    {
     "data": {
      "image/png": "[encoded data removed]",
      "text/plain": [
       "<Figure size 2000x1200 with 1 Axes>"
      ]
     },
     "metadata": {},
     "output_type": "display_data"
    }
   ],
   "source": [
    "import contextily as ctx\n",
    "\n",
    "ax = gdf.plot(\n",
    "            figsize=(20,12),   #size of the plot (a bit bigger than the default)\n",
    "            column = 'GYM',   # column that defines the color of the dots\n",
    "            legend = True,     # add a legend           \n",
    "            markersize = 3,\n",
    "            legend_kwds={\n",
    "               'loc': 'upper right',\n",
    "               'bbox_to_anchor':(1,1)\n",
    "            }                  # this puts the legend to the side\n",
    ")\n",
    "\n",
    "ctx.add_basemap(ax, crs='EPSG:4326', source=ctx.providers.CartoDB.Voyager)"
   ]
  },
  {
   "cell_type": "markdown",
   "id": "a02333ca-0da9-4afb-99ea-7f893ac9291f",
   "metadata": {},
   "source": [
    "##### Output above shows the final map of the Parks and Recreation sites with or without a gym in Philly with a basemap"
   ]
  }
 ],
 "metadata": {
  "kernelspec": {
   "display_name": "Python 3 (ipykernel)",
   "language": "python",
   "name": "python3"
  },
  "language_info": {
   "codemirror_mode": {
    "name": "ipython",
    "version": 3
   },
   "file_extension": ".py",
   "mimetype": "text/x-python",
   "name": "python",
   "nbconvert_exporter": "python",
   "pygments_lexer": "ipython3",
   "version": "3.10.8"
  }
 },
 "nbformat": 4,
 "nbformat_minor": 5
}
