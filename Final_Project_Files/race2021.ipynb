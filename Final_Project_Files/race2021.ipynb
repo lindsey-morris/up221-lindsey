{
 "cells": [
  {
   "cell_type": "markdown",
   "id": "b483ec80-c7bc-45a3-932a-a1482cb7d875",
   "metadata": {
    "tags": []
   },
   "source": [
    "# 2021 Philadelphia Race Profile"
   ]
  },
  {
   "cell_type": "markdown",
   "id": "f316dfcb-109d-42a4-8361-2ae840c6a191",
   "metadata": {
    "tags": []
   },
   "source": [
    "### Description:\n",
    "The selected American Community Survey (ACS) 2021 (5-Year Estimates) dataset was sourced from Social Explorer; U.S. Census Bureau. The ACS survey data is used to explored Philadelphia's race profile, as well as the North Philadelphia's Logan Neighborhood Race Profile. Then, Philadelphia's 2010 census tracts are imported via a geojson file soured from Open Data Philly. The race data is then overlayed on the spatial file to view at the city and neighborhood level. "
   ]
  },
  {
   "cell_type": "markdown",
   "id": "caf24e5a-531a-4f1d-85d5-35f3df41122b",
   "metadata": {},
   "source": [
    "#### Author: \n",
    "\n",
    "Lindsey Morris"
   ]
  },
  {
   "cell_type": "code",
   "execution_count": 1,
   "id": "b44c1eff-b56f-4b9a-8a04-f4ac14496def",
   "metadata": {},
   "outputs": [],
   "source": [
    "import pandas as pd\n",
    "import geopandas as gpd\n",
    "import matplotlib.pyplot as plt\n",
    "import folium"
   ]
  },
  {
   "cell_type": "markdown",
   "id": "c826e942-fa42-4ef1-9739-208c2f0d618d",
   "metadata": {},
   "source": [
    "Load a data file from Week 3 of my repo"
   ]
  },
  {
   "cell_type": "code",
   "execution_count": 2,
   "id": "d3bbf84d-12f2-4592-8ebf-7062009f74b9",
   "metadata": {},
   "outputs": [],
   "source": [
    "race = pd.read_csv('2021race.csv')"
   ]
  },
  {
   "cell_type": "markdown",
   "id": "455c9f6f-746e-47ea-913b-ca01f58a98a3",
   "metadata": {},
   "source": [
    "Inspect size of the data"
   ]
  },
  {
   "cell_type": "code",
   "execution_count": 3,
   "id": "f7b06d60-3bd4-403f-982a-6a723e7495ba",
   "metadata": {},
   "outputs": [
    {
     "data": {
      "text/plain": [
       "(408, 70)"
      ]
     },
     "execution_count": 3,
     "metadata": {},
     "output_type": "execute_result"
    }
   ],
   "source": [
    "race.shape"
   ]
  },
  {
   "cell_type": "markdown",
   "id": "986c3993-4530-4a81-9805-1cb5ff69c5b8",
   "metadata": {},
   "source": [
    "The output above shows that there are 408 row and 70 columns in the dataset"
   ]
  },
  {
   "cell_type": "code",
   "execution_count": 4,
   "id": "4cd408d0-9aaf-4235-a5c3-2f87b962b804",
   "metadata": {},
   "outputs": [
    {
     "data": {
      "text/html": [
       "<div>\n",
       "<style scoped>\n",
       "    .dataframe tbody tr th:only-of-type {\n",
       "        vertical-align: middle;\n",
       "    }\n",
       "\n",
       "    .dataframe tbody tr th {\n",
       "        vertical-align: top;\n",
       "    }\n",
       "\n",
       "    .dataframe thead th {\n",
       "        text-align: right;\n",
       "    }\n",
       "</style>\n",
       "<table border=\"1\" class=\"dataframe\">\n",
       "  <thead>\n",
       "    <tr style=\"text-align: right;\">\n",
       "      <th></th>\n",
       "      <th>Geo_FIPS</th>\n",
       "      <th>Geo_QName</th>\n",
       "      <th>Geo_FILEID</th>\n",
       "      <th>Geo_STUSAB</th>\n",
       "      <th>Geo_SUMLEV</th>\n",
       "      <th>Geo_GEOCOMP</th>\n",
       "      <th>Geo_LOGRECNO</th>\n",
       "      <th>Geo_US</th>\n",
       "      <th>Geo_REGION</th>\n",
       "      <th>Geo_DIVISION</th>\n",
       "      <th>...</th>\n",
       "      <th>SE_A03001_006</th>\n",
       "      <th>SE_A03001_007</th>\n",
       "      <th>SE_A03001_008</th>\n",
       "      <th>PCT_SE_A03001_002</th>\n",
       "      <th>PCT_SE_A03001_003</th>\n",
       "      <th>PCT_SE_A03001_004</th>\n",
       "      <th>PCT_SE_A03001_005</th>\n",
       "      <th>PCT_SE_A03001_006</th>\n",
       "      <th>PCT_SE_A03001_007</th>\n",
       "      <th>PCT_SE_A03001_008</th>\n",
       "    </tr>\n",
       "  </thead>\n",
       "  <tbody>\n",
       "    <tr>\n",
       "      <th>0</th>\n",
       "      <td>42101000101</td>\n",
       "      <td>Census Tract 1.01, Philadelphia County, Pennsy...</td>\n",
       "      <td>ACSSF</td>\n",
       "      <td>pa</td>\n",
       "      <td>140</td>\n",
       "      <td>0</td>\n",
       "      <td>8807</td>\n",
       "      <td>NaN</td>\n",
       "      <td>NaN</td>\n",
       "      <td>NaN</td>\n",
       "      <td>...</td>\n",
       "      <td>0</td>\n",
       "      <td>99</td>\n",
       "      <td>37</td>\n",
       "      <td>83.98</td>\n",
       "      <td>1.40</td>\n",
       "      <td>0.00</td>\n",
       "      <td>7.83</td>\n",
       "      <td>0.0</td>\n",
       "      <td>4.94</td>\n",
       "      <td>1.85</td>\n",
       "    </tr>\n",
       "    <tr>\n",
       "      <th>1</th>\n",
       "      <td>42101000102</td>\n",
       "      <td>Census Tract 1.02, Philadelphia County, Pennsy...</td>\n",
       "      <td>ACSSF</td>\n",
       "      <td>pa</td>\n",
       "      <td>140</td>\n",
       "      <td>0</td>\n",
       "      <td>8808</td>\n",
       "      <td>NaN</td>\n",
       "      <td>NaN</td>\n",
       "      <td>NaN</td>\n",
       "      <td>...</td>\n",
       "      <td>0</td>\n",
       "      <td>48</td>\n",
       "      <td>35</td>\n",
       "      <td>91.24</td>\n",
       "      <td>2.98</td>\n",
       "      <td>0.00</td>\n",
       "      <td>2.76</td>\n",
       "      <td>0.0</td>\n",
       "      <td>1.74</td>\n",
       "      <td>1.27</td>\n",
       "    </tr>\n",
       "    <tr>\n",
       "      <th>2</th>\n",
       "      <td>42101000200</td>\n",
       "      <td>Census Tract 2, Philadelphia County, Pennsylvania</td>\n",
       "      <td>ACSSF</td>\n",
       "      <td>pa</td>\n",
       "      <td>140</td>\n",
       "      <td>0</td>\n",
       "      <td>8809</td>\n",
       "      <td>NaN</td>\n",
       "      <td>NaN</td>\n",
       "      <td>NaN</td>\n",
       "      <td>...</td>\n",
       "      <td>0</td>\n",
       "      <td>3</td>\n",
       "      <td>235</td>\n",
       "      <td>31.14</td>\n",
       "      <td>6.59</td>\n",
       "      <td>0.00</td>\n",
       "      <td>55.30</td>\n",
       "      <td>0.0</td>\n",
       "      <td>0.09</td>\n",
       "      <td>6.88</td>\n",
       "    </tr>\n",
       "    <tr>\n",
       "      <th>3</th>\n",
       "      <td>42101000300</td>\n",
       "      <td>Census Tract 3, Philadelphia County, Pennsylvania</td>\n",
       "      <td>ACSSF</td>\n",
       "      <td>pa</td>\n",
       "      <td>140</td>\n",
       "      <td>0</td>\n",
       "      <td>8810</td>\n",
       "      <td>NaN</td>\n",
       "      <td>NaN</td>\n",
       "      <td>NaN</td>\n",
       "      <td>...</td>\n",
       "      <td>0</td>\n",
       "      <td>56</td>\n",
       "      <td>405</td>\n",
       "      <td>63.63</td>\n",
       "      <td>6.11</td>\n",
       "      <td>0.08</td>\n",
       "      <td>17.25</td>\n",
       "      <td>0.0</td>\n",
       "      <td>1.57</td>\n",
       "      <td>11.36</td>\n",
       "    </tr>\n",
       "    <tr>\n",
       "      <th>4</th>\n",
       "      <td>42101000401</td>\n",
       "      <td>Census Tract 4.01, Philadelphia County, Pennsy...</td>\n",
       "      <td>ACSSF</td>\n",
       "      <td>pa</td>\n",
       "      <td>140</td>\n",
       "      <td>0</td>\n",
       "      <td>8811</td>\n",
       "      <td>NaN</td>\n",
       "      <td>NaN</td>\n",
       "      <td>NaN</td>\n",
       "      <td>...</td>\n",
       "      <td>0</td>\n",
       "      <td>0</td>\n",
       "      <td>128</td>\n",
       "      <td>61.99</td>\n",
       "      <td>14.57</td>\n",
       "      <td>0.00</td>\n",
       "      <td>18.46</td>\n",
       "      <td>0.0</td>\n",
       "      <td>0.00</td>\n",
       "      <td>4.97</td>\n",
       "    </tr>\n",
       "  </tbody>\n",
       "</table>\n",
       "<p>5 rows × 70 columns</p>\n",
       "</div>"
      ],
      "text/plain": [
       "      Geo_FIPS                                          Geo_QName Geo_FILEID  \\\n",
       "0  42101000101  Census Tract 1.01, Philadelphia County, Pennsy...      ACSSF   \n",
       "1  42101000102  Census Tract 1.02, Philadelphia County, Pennsy...      ACSSF   \n",
       "2  42101000200  Census Tract 2, Philadelphia County, Pennsylvania      ACSSF   \n",
       "3  42101000300  Census Tract 3, Philadelphia County, Pennsylvania      ACSSF   \n",
       "4  42101000401  Census Tract 4.01, Philadelphia County, Pennsy...      ACSSF   \n",
       "\n",
       "  Geo_STUSAB  Geo_SUMLEV  Geo_GEOCOMP  Geo_LOGRECNO  Geo_US  Geo_REGION  \\\n",
       "0         pa         140            0          8807     NaN         NaN   \n",
       "1         pa         140            0          8808     NaN         NaN   \n",
       "2         pa         140            0          8809     NaN         NaN   \n",
       "3         pa         140            0          8810     NaN         NaN   \n",
       "4         pa         140            0          8811     NaN         NaN   \n",
       "\n",
       "   Geo_DIVISION  ...  SE_A03001_006  SE_A03001_007  SE_A03001_008  \\\n",
       "0           NaN  ...              0             99             37   \n",
       "1           NaN  ...              0             48             35   \n",
       "2           NaN  ...              0              3            235   \n",
       "3           NaN  ...              0             56            405   \n",
       "4           NaN  ...              0              0            128   \n",
       "\n",
       "   PCT_SE_A03001_002  PCT_SE_A03001_003  PCT_SE_A03001_004  PCT_SE_A03001_005  \\\n",
       "0              83.98               1.40               0.00               7.83   \n",
       "1              91.24               2.98               0.00               2.76   \n",
       "2              31.14               6.59               0.00              55.30   \n",
       "3              63.63               6.11               0.08              17.25   \n",
       "4              61.99              14.57               0.00              18.46   \n",
       "\n",
       "   PCT_SE_A03001_006  PCT_SE_A03001_007  PCT_SE_A03001_008  \n",
       "0                0.0               4.94               1.85  \n",
       "1                0.0               1.74               1.27  \n",
       "2                0.0               0.09               6.88  \n",
       "3                0.0               1.57              11.36  \n",
       "4                0.0               0.00               4.97  \n",
       "\n",
       "[5 rows x 70 columns]"
      ]
     },
     "execution_count": 4,
     "metadata": {},
     "output_type": "execute_result"
    }
   ],
   "source": [
    "race.head()"
   ]
  },
  {
   "cell_type": "markdown",
   "id": "8f92907d-be59-45ca-91d3-553e42ae0406",
   "metadata": {},
   "source": [
    "The output above shows the first 5 rows of the dataset"
   ]
  },
  {
   "cell_type": "markdown",
   "id": "5dcbc4f3-584b-4c3d-9370-ba8d4facc993",
   "metadata": {},
   "source": [
    "Look at the data type"
   ]
  },
  {
   "cell_type": "code",
   "execution_count": 5,
   "id": "12d206e0-46c1-4695-a5c2-41bbf3a3c12c",
   "metadata": {},
   "outputs": [
    {
     "name": "stdout",
     "output_type": "stream",
     "text": [
      "<class 'pandas.core.frame.DataFrame'>\n",
      "RangeIndex: 408 entries, 0 to 407\n",
      "Data columns (total 70 columns):\n",
      " #   Column             Non-Null Count  Dtype  \n",
      "---  ------             --------------  -----  \n",
      " 0   Geo_FIPS           408 non-null    int64  \n",
      " 1   Geo_QName          408 non-null    object \n",
      " 2   Geo_FILEID         408 non-null    object \n",
      " 3   Geo_STUSAB         408 non-null    object \n",
      " 4   Geo_SUMLEV         408 non-null    int64  \n",
      " 5   Geo_GEOCOMP        408 non-null    int64  \n",
      " 6   Geo_LOGRECNO       408 non-null    int64  \n",
      " 7   Geo_US             0 non-null      float64\n",
      " 8   Geo_REGION         0 non-null      float64\n",
      " 9   Geo_DIVISION       0 non-null      float64\n",
      " 10  Geo_STATECE        0 non-null      float64\n",
      " 11  Geo_STATE          408 non-null    int64  \n",
      " 12  Geo_COUNTY         408 non-null    int64  \n",
      " 13  Geo_COUSUB         0 non-null      float64\n",
      " 14  Geo_PLACE          0 non-null      float64\n",
      " 15  Geo_TRACT          408 non-null    int64  \n",
      " 16  Geo_BLKGRP         0 non-null      float64\n",
      " 17  Geo_CONCIT         0 non-null      float64\n",
      " 18  Geo_AIANHH         0 non-null      float64\n",
      " 19  Geo_AIANHHFP       0 non-null      float64\n",
      " 20  Geo_AIHHTLI        0 non-null      float64\n",
      " 21  Geo_AITSCE         0 non-null      float64\n",
      " 22  Geo_AITS           0 non-null      float64\n",
      " 23  Geo_ANRC           0 non-null      float64\n",
      " 24  Geo_CBSA           0 non-null      float64\n",
      " 25  Geo_CSA            0 non-null      float64\n",
      " 26  Geo_METDIV         0 non-null      float64\n",
      " 27  Geo_MACC           0 non-null      float64\n",
      " 28  Geo_MEMI           0 non-null      float64\n",
      " 29  Geo_NECTA          0 non-null      float64\n",
      " 30  Geo_CNECTA         0 non-null      float64\n",
      " 31  Geo_NECTADIV       0 non-null      float64\n",
      " 32  Geo_UA             0 non-null      float64\n",
      " 33  Geo_UACP           0 non-null      float64\n",
      " 34  Geo_CDCURR         0 non-null      float64\n",
      " 35  Geo_SLDU           0 non-null      float64\n",
      " 36  Geo_SLDL           0 non-null      float64\n",
      " 37  Geo_VTD            0 non-null      float64\n",
      " 38  Geo_ZCTA3          0 non-null      float64\n",
      " 39  Geo_ZCTA5          0 non-null      float64\n",
      " 40  Geo_SUBMCD         0 non-null      float64\n",
      " 41  Geo_SDELM          0 non-null      float64\n",
      " 42  Geo_SDSEC          0 non-null      float64\n",
      " 43  Geo_SDUNI          0 non-null      float64\n",
      " 44  Geo_UR             0 non-null      float64\n",
      " 45  Geo_PCI            0 non-null      float64\n",
      " 46  Geo_TAZ            0 non-null      float64\n",
      " 47  Geo_UGA            0 non-null      float64\n",
      " 48  Geo_PUMA5          0 non-null      float64\n",
      " 49  Geo_PUMA1          0 non-null      float64\n",
      " 50  Geo_GEOID          408 non-null    object \n",
      " 51  Geo_NAME           408 non-null    object \n",
      " 52  Geo_BTTR           0 non-null      float64\n",
      " 53  Geo_BTBG           0 non-null      float64\n",
      " 54  Geo_PLACESE        0 non-null      float64\n",
      " 55  SE_A03001_001      408 non-null    int64  \n",
      " 56  SE_A03001_002      408 non-null    int64  \n",
      " 57  SE_A03001_003      408 non-null    int64  \n",
      " 58  SE_A03001_004      408 non-null    int64  \n",
      " 59  SE_A03001_005      408 non-null    int64  \n",
      " 60  SE_A03001_006      408 non-null    int64  \n",
      " 61  SE_A03001_007      408 non-null    int64  \n",
      " 62  SE_A03001_008      408 non-null    int64  \n",
      " 63  PCT_SE_A03001_002  391 non-null    float64\n",
      " 64  PCT_SE_A03001_003  391 non-null    float64\n",
      " 65  PCT_SE_A03001_004  391 non-null    float64\n",
      " 66  PCT_SE_A03001_005  391 non-null    float64\n",
      " 67  PCT_SE_A03001_006  391 non-null    float64\n",
      " 68  PCT_SE_A03001_007  391 non-null    float64\n",
      " 69  PCT_SE_A03001_008  391 non-null    float64\n",
      "dtypes: float64(50), int64(15), object(5)\n",
      "memory usage: 223.2+ KB\n"
     ]
    }
   ],
   "source": [
    "race.info(verbose=True, show_counts=True)"
   ]
  },
  {
   "cell_type": "markdown",
   "id": "1f1a3de4-2ed9-4668-a4c7-cd7d7f51a9e9",
   "metadata": {},
   "source": [
    "#### Assigning Data Types on Import"
   ]
  },
  {
   "cell_type": "markdown",
   "id": "4bdacd71-1a56-49b7-a3ac-480f64b1d7ff",
   "metadata": {},
   "source": [
    "Take a closer look at the unique identifier column, Geo_FIPS."
   ]
  },
  {
   "cell_type": "code",
   "execution_count": 6,
   "id": "1805c798-a7be-416a-a685-887f6ba18429",
   "metadata": {},
   "outputs": [
    {
     "data": {
      "text/plain": [
       "0    42101000101\n",
       "1    42101000102\n",
       "2    42101000200\n",
       "3    42101000300\n",
       "4    42101000401\n",
       "Name: Geo_FIPS, dtype: int64"
      ]
     },
     "execution_count": 6,
     "metadata": {},
     "output_type": "execute_result"
    }
   ],
   "source": [
    "race.Geo_FIPS.head()"
   ]
  },
  {
   "cell_type": "code",
   "execution_count": 7,
   "id": "de81a429-61b0-47de-a369-f736fe7105b2",
   "metadata": {},
   "outputs": [
    {
     "data": {
      "text/html": [
       "<div>\n",
       "<style scoped>\n",
       "    .dataframe tbody tr th:only-of-type {\n",
       "        vertical-align: middle;\n",
       "    }\n",
       "\n",
       "    .dataframe tbody tr th {\n",
       "        vertical-align: top;\n",
       "    }\n",
       "\n",
       "    .dataframe thead th {\n",
       "        text-align: right;\n",
       "    }\n",
       "</style>\n",
       "<table border=\"1\" class=\"dataframe\">\n",
       "  <thead>\n",
       "    <tr style=\"text-align: right;\">\n",
       "      <th></th>\n",
       "      <th>Geo_FIPS</th>\n",
       "      <th>Geo_QName</th>\n",
       "      <th>Geo_FILEID</th>\n",
       "      <th>Geo_STUSAB</th>\n",
       "      <th>Geo_SUMLEV</th>\n",
       "      <th>Geo_GEOCOMP</th>\n",
       "      <th>Geo_LOGRECNO</th>\n",
       "      <th>Geo_US</th>\n",
       "      <th>Geo_REGION</th>\n",
       "      <th>Geo_DIVISION</th>\n",
       "      <th>...</th>\n",
       "      <th>SE_A03001_006</th>\n",
       "      <th>SE_A03001_007</th>\n",
       "      <th>SE_A03001_008</th>\n",
       "      <th>PCT_SE_A03001_002</th>\n",
       "      <th>PCT_SE_A03001_003</th>\n",
       "      <th>PCT_SE_A03001_004</th>\n",
       "      <th>PCT_SE_A03001_005</th>\n",
       "      <th>PCT_SE_A03001_006</th>\n",
       "      <th>PCT_SE_A03001_007</th>\n",
       "      <th>PCT_SE_A03001_008</th>\n",
       "    </tr>\n",
       "  </thead>\n",
       "  <tbody>\n",
       "    <tr>\n",
       "      <th>0</th>\n",
       "      <td>42101000101</td>\n",
       "      <td>Census Tract 1.01, Philadelphia County, Pennsy...</td>\n",
       "      <td>ACSSF</td>\n",
       "      <td>pa</td>\n",
       "      <td>140</td>\n",
       "      <td>0</td>\n",
       "      <td>8807</td>\n",
       "      <td>NaN</td>\n",
       "      <td>NaN</td>\n",
       "      <td>NaN</td>\n",
       "      <td>...</td>\n",
       "      <td>0</td>\n",
       "      <td>99</td>\n",
       "      <td>37</td>\n",
       "      <td>83.98</td>\n",
       "      <td>1.40</td>\n",
       "      <td>0.00</td>\n",
       "      <td>7.83</td>\n",
       "      <td>0.0</td>\n",
       "      <td>4.94</td>\n",
       "      <td>1.85</td>\n",
       "    </tr>\n",
       "    <tr>\n",
       "      <th>1</th>\n",
       "      <td>42101000102</td>\n",
       "      <td>Census Tract 1.02, Philadelphia County, Pennsy...</td>\n",
       "      <td>ACSSF</td>\n",
       "      <td>pa</td>\n",
       "      <td>140</td>\n",
       "      <td>0</td>\n",
       "      <td>8808</td>\n",
       "      <td>NaN</td>\n",
       "      <td>NaN</td>\n",
       "      <td>NaN</td>\n",
       "      <td>...</td>\n",
       "      <td>0</td>\n",
       "      <td>48</td>\n",
       "      <td>35</td>\n",
       "      <td>91.24</td>\n",
       "      <td>2.98</td>\n",
       "      <td>0.00</td>\n",
       "      <td>2.76</td>\n",
       "      <td>0.0</td>\n",
       "      <td>1.74</td>\n",
       "      <td>1.27</td>\n",
       "    </tr>\n",
       "    <tr>\n",
       "      <th>2</th>\n",
       "      <td>42101000200</td>\n",
       "      <td>Census Tract 2, Philadelphia County, Pennsylvania</td>\n",
       "      <td>ACSSF</td>\n",
       "      <td>pa</td>\n",
       "      <td>140</td>\n",
       "      <td>0</td>\n",
       "      <td>8809</td>\n",
       "      <td>NaN</td>\n",
       "      <td>NaN</td>\n",
       "      <td>NaN</td>\n",
       "      <td>...</td>\n",
       "      <td>0</td>\n",
       "      <td>3</td>\n",
       "      <td>235</td>\n",
       "      <td>31.14</td>\n",
       "      <td>6.59</td>\n",
       "      <td>0.00</td>\n",
       "      <td>55.30</td>\n",
       "      <td>0.0</td>\n",
       "      <td>0.09</td>\n",
       "      <td>6.88</td>\n",
       "    </tr>\n",
       "    <tr>\n",
       "      <th>3</th>\n",
       "      <td>42101000300</td>\n",
       "      <td>Census Tract 3, Philadelphia County, Pennsylvania</td>\n",
       "      <td>ACSSF</td>\n",
       "      <td>pa</td>\n",
       "      <td>140</td>\n",
       "      <td>0</td>\n",
       "      <td>8810</td>\n",
       "      <td>NaN</td>\n",
       "      <td>NaN</td>\n",
       "      <td>NaN</td>\n",
       "      <td>...</td>\n",
       "      <td>0</td>\n",
       "      <td>56</td>\n",
       "      <td>405</td>\n",
       "      <td>63.63</td>\n",
       "      <td>6.11</td>\n",
       "      <td>0.08</td>\n",
       "      <td>17.25</td>\n",
       "      <td>0.0</td>\n",
       "      <td>1.57</td>\n",
       "      <td>11.36</td>\n",
       "    </tr>\n",
       "    <tr>\n",
       "      <th>4</th>\n",
       "      <td>42101000401</td>\n",
       "      <td>Census Tract 4.01, Philadelphia County, Pennsy...</td>\n",
       "      <td>ACSSF</td>\n",
       "      <td>pa</td>\n",
       "      <td>140</td>\n",
       "      <td>0</td>\n",
       "      <td>8811</td>\n",
       "      <td>NaN</td>\n",
       "      <td>NaN</td>\n",
       "      <td>NaN</td>\n",
       "      <td>...</td>\n",
       "      <td>0</td>\n",
       "      <td>0</td>\n",
       "      <td>128</td>\n",
       "      <td>61.99</td>\n",
       "      <td>14.57</td>\n",
       "      <td>0.00</td>\n",
       "      <td>18.46</td>\n",
       "      <td>0.0</td>\n",
       "      <td>0.00</td>\n",
       "      <td>4.97</td>\n",
       "    </tr>\n",
       "  </tbody>\n",
       "</table>\n",
       "<p>5 rows × 70 columns</p>\n",
       "</div>"
      ],
      "text/plain": [
       "      Geo_FIPS                                          Geo_QName Geo_FILEID  \\\n",
       "0  42101000101  Census Tract 1.01, Philadelphia County, Pennsy...      ACSSF   \n",
       "1  42101000102  Census Tract 1.02, Philadelphia County, Pennsy...      ACSSF   \n",
       "2  42101000200  Census Tract 2, Philadelphia County, Pennsylvania      ACSSF   \n",
       "3  42101000300  Census Tract 3, Philadelphia County, Pennsylvania      ACSSF   \n",
       "4  42101000401  Census Tract 4.01, Philadelphia County, Pennsy...      ACSSF   \n",
       "\n",
       "  Geo_STUSAB  Geo_SUMLEV  Geo_GEOCOMP  Geo_LOGRECNO  Geo_US  Geo_REGION  \\\n",
       "0         pa         140            0          8807     NaN         NaN   \n",
       "1         pa         140            0          8808     NaN         NaN   \n",
       "2         pa         140            0          8809     NaN         NaN   \n",
       "3         pa         140            0          8810     NaN         NaN   \n",
       "4         pa         140            0          8811     NaN         NaN   \n",
       "\n",
       "   Geo_DIVISION  ...  SE_A03001_006  SE_A03001_007  SE_A03001_008  \\\n",
       "0           NaN  ...              0             99             37   \n",
       "1           NaN  ...              0             48             35   \n",
       "2           NaN  ...              0              3            235   \n",
       "3           NaN  ...              0             56            405   \n",
       "4           NaN  ...              0              0            128   \n",
       "\n",
       "   PCT_SE_A03001_002  PCT_SE_A03001_003  PCT_SE_A03001_004  PCT_SE_A03001_005  \\\n",
       "0              83.98               1.40               0.00               7.83   \n",
       "1              91.24               2.98               0.00               2.76   \n",
       "2              31.14               6.59               0.00              55.30   \n",
       "3              63.63               6.11               0.08              17.25   \n",
       "4              61.99              14.57               0.00              18.46   \n",
       "\n",
       "   PCT_SE_A03001_006  PCT_SE_A03001_007  PCT_SE_A03001_008  \n",
       "0                0.0               4.94               1.85  \n",
       "1                0.0               1.74               1.27  \n",
       "2                0.0               0.09               6.88  \n",
       "3                0.0               1.57              11.36  \n",
       "4                0.0               0.00               4.97  \n",
       "\n",
       "[5 rows x 70 columns]"
      ]
     },
     "execution_count": 7,
     "metadata": {},
     "output_type": "execute_result"
    }
   ],
   "source": [
    "race.head()"
   ]
  },
  {
   "cell_type": "markdown",
   "id": "b3078b31-8d82-4525-b59f-b45eef238df9",
   "metadata": {},
   "source": [
    "Confirm race dataset has the correct datatypes. "
   ]
  },
  {
   "cell_type": "code",
   "execution_count": 8,
   "id": "d6f57979-6c77-465d-8cb5-1b63dce34bf9",
   "metadata": {},
   "outputs": [
    {
     "name": "stdout",
     "output_type": "stream",
     "text": [
      "<class 'pandas.core.frame.DataFrame'>\n",
      "RangeIndex: 408 entries, 0 to 407\n",
      "Data columns (total 70 columns):\n",
      " #   Column             Non-Null Count  Dtype  \n",
      "---  ------             --------------  -----  \n",
      " 0   Geo_FIPS           408 non-null    int64  \n",
      " 1   Geo_QName          408 non-null    object \n",
      " 2   Geo_FILEID         408 non-null    object \n",
      " 3   Geo_STUSAB         408 non-null    object \n",
      " 4   Geo_SUMLEV         408 non-null    int64  \n",
      " 5   Geo_GEOCOMP        408 non-null    int64  \n",
      " 6   Geo_LOGRECNO       408 non-null    int64  \n",
      " 7   Geo_US             0 non-null      float64\n",
      " 8   Geo_REGION         0 non-null      float64\n",
      " 9   Geo_DIVISION       0 non-null      float64\n",
      " 10  Geo_STATECE        0 non-null      float64\n",
      " 11  Geo_STATE          408 non-null    int64  \n",
      " 12  Geo_COUNTY         408 non-null    int64  \n",
      " 13  Geo_COUSUB         0 non-null      float64\n",
      " 14  Geo_PLACE          0 non-null      float64\n",
      " 15  Geo_TRACT          408 non-null    int64  \n",
      " 16  Geo_BLKGRP         0 non-null      float64\n",
      " 17  Geo_CONCIT         0 non-null      float64\n",
      " 18  Geo_AIANHH         0 non-null      float64\n",
      " 19  Geo_AIANHHFP       0 non-null      float64\n",
      " 20  Geo_AIHHTLI        0 non-null      float64\n",
      " 21  Geo_AITSCE         0 non-null      float64\n",
      " 22  Geo_AITS           0 non-null      float64\n",
      " 23  Geo_ANRC           0 non-null      float64\n",
      " 24  Geo_CBSA           0 non-null      float64\n",
      " 25  Geo_CSA            0 non-null      float64\n",
      " 26  Geo_METDIV         0 non-null      float64\n",
      " 27  Geo_MACC           0 non-null      float64\n",
      " 28  Geo_MEMI           0 non-null      float64\n",
      " 29  Geo_NECTA          0 non-null      float64\n",
      " 30  Geo_CNECTA         0 non-null      float64\n",
      " 31  Geo_NECTADIV       0 non-null      float64\n",
      " 32  Geo_UA             0 non-null      float64\n",
      " 33  Geo_UACP           0 non-null      float64\n",
      " 34  Geo_CDCURR         0 non-null      float64\n",
      " 35  Geo_SLDU           0 non-null      float64\n",
      " 36  Geo_SLDL           0 non-null      float64\n",
      " 37  Geo_VTD            0 non-null      float64\n",
      " 38  Geo_ZCTA3          0 non-null      float64\n",
      " 39  Geo_ZCTA5          0 non-null      float64\n",
      " 40  Geo_SUBMCD         0 non-null      float64\n",
      " 41  Geo_SDELM          0 non-null      float64\n",
      " 42  Geo_SDSEC          0 non-null      float64\n",
      " 43  Geo_SDUNI          0 non-null      float64\n",
      " 44  Geo_UR             0 non-null      float64\n",
      " 45  Geo_PCI            0 non-null      float64\n",
      " 46  Geo_TAZ            0 non-null      float64\n",
      " 47  Geo_UGA            0 non-null      float64\n",
      " 48  Geo_PUMA5          0 non-null      float64\n",
      " 49  Geo_PUMA1          0 non-null      float64\n",
      " 50  Geo_GEOID          408 non-null    object \n",
      " 51  Geo_NAME           408 non-null    object \n",
      " 52  Geo_BTTR           0 non-null      float64\n",
      " 53  Geo_BTBG           0 non-null      float64\n",
      " 54  Geo_PLACESE        0 non-null      float64\n",
      " 55  SE_A03001_001      408 non-null    int64  \n",
      " 56  SE_A03001_002      408 non-null    int64  \n",
      " 57  SE_A03001_003      408 non-null    int64  \n",
      " 58  SE_A03001_004      408 non-null    int64  \n",
      " 59  SE_A03001_005      408 non-null    int64  \n",
      " 60  SE_A03001_006      408 non-null    int64  \n",
      " 61  SE_A03001_007      408 non-null    int64  \n",
      " 62  SE_A03001_008      408 non-null    int64  \n",
      " 63  PCT_SE_A03001_002  391 non-null    float64\n",
      " 64  PCT_SE_A03001_003  391 non-null    float64\n",
      " 65  PCT_SE_A03001_004  391 non-null    float64\n",
      " 66  PCT_SE_A03001_005  391 non-null    float64\n",
      " 67  PCT_SE_A03001_006  391 non-null    float64\n",
      " 68  PCT_SE_A03001_007  391 non-null    float64\n",
      " 69  PCT_SE_A03001_008  391 non-null    float64\n",
      "dtypes: float64(50), int64(15), object(5)\n",
      "memory usage: 223.2+ KB\n"
     ]
    }
   ],
   "source": [
    "race.info(verbose=True, show_counts=True)"
   ]
  },
  {
   "cell_type": "markdown",
   "id": "08966156-28d5-429f-a19a-3ec7936d5b59",
   "metadata": {},
   "source": [
    "#### Drop/Delete Null Columns"
   ]
  },
  {
   "cell_type": "code",
   "execution_count": 9,
   "id": "ba7872d3-56ce-45f7-b93b-89f93ffb01b8",
   "metadata": {},
   "outputs": [
    {
     "data": {
      "text/plain": [
       "['Geo_US',\n",
       " 'Geo_REGION',\n",
       " 'Geo_DIVISION',\n",
       " 'Geo_STATECE',\n",
       " 'Geo_COUSUB',\n",
       " 'Geo_PLACE',\n",
       " 'Geo_BLKGRP',\n",
       " 'Geo_CONCIT',\n",
       " 'Geo_AIANHH',\n",
       " 'Geo_AIANHHFP',\n",
       " 'Geo_AIHHTLI',\n",
       " 'Geo_AITSCE',\n",
       " 'Geo_AITS',\n",
       " 'Geo_ANRC',\n",
       " 'Geo_CBSA',\n",
       " 'Geo_CSA',\n",
       " 'Geo_METDIV',\n",
       " 'Geo_MACC',\n",
       " 'Geo_MEMI',\n",
       " 'Geo_NECTA',\n",
       " 'Geo_CNECTA',\n",
       " 'Geo_NECTADIV',\n",
       " 'Geo_UA',\n",
       " 'Geo_UACP',\n",
       " 'Geo_CDCURR',\n",
       " 'Geo_SLDU',\n",
       " 'Geo_SLDL',\n",
       " 'Geo_VTD',\n",
       " 'Geo_ZCTA3',\n",
       " 'Geo_ZCTA5',\n",
       " 'Geo_SUBMCD',\n",
       " 'Geo_SDELM',\n",
       " 'Geo_SDSEC',\n",
       " 'Geo_SDUNI',\n",
       " 'Geo_UR',\n",
       " 'Geo_PCI',\n",
       " 'Geo_TAZ',\n",
       " 'Geo_UGA',\n",
       " 'Geo_PUMA5',\n",
       " 'Geo_PUMA1',\n",
       " 'Geo_BTTR',\n",
       " 'Geo_BTBG',\n",
       " 'Geo_PLACESE']"
      ]
     },
     "execution_count": 9,
     "metadata": {},
     "output_type": "execute_result"
    }
   ],
   "source": [
    "race.columns[race.isna().all()].tolist()"
   ]
  },
  {
   "cell_type": "markdown",
   "id": "381823df-113e-41d9-9dd6-ea7f6bd804ef",
   "metadata": {},
   "source": [
    "Output above shows many null columns\n",
    "\n",
    "Eliminate the null columns "
   ]
  },
  {
   "cell_type": "code",
   "execution_count": 10,
   "id": "75b72cb2-1376-459e-ac01-9016bc2c6437",
   "metadata": {},
   "outputs": [],
   "source": [
    "race = race.dropna(axis=1,how=\"all\")"
   ]
  },
  {
   "cell_type": "markdown",
   "id": "e53bc796-4508-4ce0-a332-41af55f7e724",
   "metadata": {},
   "source": [
    "check that the null columns have been dropped"
   ]
  },
  {
   "cell_type": "code",
   "execution_count": 11,
   "id": "c8172667-a934-42c1-a51f-52461702f125",
   "metadata": {},
   "outputs": [
    {
     "name": "stdout",
     "output_type": "stream",
     "text": [
      "<class 'pandas.core.frame.DataFrame'>\n",
      "RangeIndex: 408 entries, 0 to 407\n",
      "Data columns (total 27 columns):\n",
      " #   Column             Non-Null Count  Dtype  \n",
      "---  ------             --------------  -----  \n",
      " 0   Geo_FIPS           408 non-null    int64  \n",
      " 1   Geo_QName          408 non-null    object \n",
      " 2   Geo_FILEID         408 non-null    object \n",
      " 3   Geo_STUSAB         408 non-null    object \n",
      " 4   Geo_SUMLEV         408 non-null    int64  \n",
      " 5   Geo_GEOCOMP        408 non-null    int64  \n",
      " 6   Geo_LOGRECNO       408 non-null    int64  \n",
      " 7   Geo_STATE          408 non-null    int64  \n",
      " 8   Geo_COUNTY         408 non-null    int64  \n",
      " 9   Geo_TRACT          408 non-null    int64  \n",
      " 10  Geo_GEOID          408 non-null    object \n",
      " 11  Geo_NAME           408 non-null    object \n",
      " 12  SE_A03001_001      408 non-null    int64  \n",
      " 13  SE_A03001_002      408 non-null    int64  \n",
      " 14  SE_A03001_003      408 non-null    int64  \n",
      " 15  SE_A03001_004      408 non-null    int64  \n",
      " 16  SE_A03001_005      408 non-null    int64  \n",
      " 17  SE_A03001_006      408 non-null    int64  \n",
      " 18  SE_A03001_007      408 non-null    int64  \n",
      " 19  SE_A03001_008      408 non-null    int64  \n",
      " 20  PCT_SE_A03001_002  391 non-null    float64\n",
      " 21  PCT_SE_A03001_003  391 non-null    float64\n",
      " 22  PCT_SE_A03001_004  391 non-null    float64\n",
      " 23  PCT_SE_A03001_005  391 non-null    float64\n",
      " 24  PCT_SE_A03001_006  391 non-null    float64\n",
      " 25  PCT_SE_A03001_007  391 non-null    float64\n",
      " 26  PCT_SE_A03001_008  391 non-null    float64\n",
      "dtypes: float64(7), int64(15), object(5)\n",
      "memory usage: 86.2+ KB\n"
     ]
    }
   ],
   "source": [
    "race.info()"
   ]
  },
  {
   "cell_type": "markdown",
   "id": "fd401977-bee1-4b0e-b1a5-6b4df6e30129",
   "metadata": {},
   "source": [
    "Null columns were dropped\n",
    "\n",
    "Reinspect the data below"
   ]
  },
  {
   "cell_type": "code",
   "execution_count": 12,
   "id": "7ba751da-cfd1-4a1e-8907-85043f606a73",
   "metadata": {},
   "outputs": [
    {
     "data": {
      "text/html": [
       "<div>\n",
       "<style scoped>\n",
       "    .dataframe tbody tr th:only-of-type {\n",
       "        vertical-align: middle;\n",
       "    }\n",
       "\n",
       "    .dataframe tbody tr th {\n",
       "        vertical-align: top;\n",
       "    }\n",
       "\n",
       "    .dataframe thead th {\n",
       "        text-align: right;\n",
       "    }\n",
       "</style>\n",
       "<table border=\"1\" class=\"dataframe\">\n",
       "  <thead>\n",
       "    <tr style=\"text-align: right;\">\n",
       "      <th></th>\n",
       "      <th>Geo_FIPS</th>\n",
       "      <th>Geo_QName</th>\n",
       "      <th>Geo_FILEID</th>\n",
       "      <th>Geo_STUSAB</th>\n",
       "      <th>Geo_SUMLEV</th>\n",
       "      <th>Geo_GEOCOMP</th>\n",
       "      <th>Geo_LOGRECNO</th>\n",
       "      <th>Geo_STATE</th>\n",
       "      <th>Geo_COUNTY</th>\n",
       "      <th>Geo_TRACT</th>\n",
       "      <th>...</th>\n",
       "      <th>SE_A03001_006</th>\n",
       "      <th>SE_A03001_007</th>\n",
       "      <th>SE_A03001_008</th>\n",
       "      <th>PCT_SE_A03001_002</th>\n",
       "      <th>PCT_SE_A03001_003</th>\n",
       "      <th>PCT_SE_A03001_004</th>\n",
       "      <th>PCT_SE_A03001_005</th>\n",
       "      <th>PCT_SE_A03001_006</th>\n",
       "      <th>PCT_SE_A03001_007</th>\n",
       "      <th>PCT_SE_A03001_008</th>\n",
       "    </tr>\n",
       "  </thead>\n",
       "  <tbody>\n",
       "    <tr>\n",
       "      <th>0</th>\n",
       "      <td>42101000101</td>\n",
       "      <td>Census Tract 1.01, Philadelphia County, Pennsy...</td>\n",
       "      <td>ACSSF</td>\n",
       "      <td>pa</td>\n",
       "      <td>140</td>\n",
       "      <td>0</td>\n",
       "      <td>8807</td>\n",
       "      <td>42</td>\n",
       "      <td>101</td>\n",
       "      <td>101</td>\n",
       "      <td>...</td>\n",
       "      <td>0</td>\n",
       "      <td>99</td>\n",
       "      <td>37</td>\n",
       "      <td>83.98</td>\n",
       "      <td>1.40</td>\n",
       "      <td>0.00</td>\n",
       "      <td>7.83</td>\n",
       "      <td>0.0</td>\n",
       "      <td>4.94</td>\n",
       "      <td>1.85</td>\n",
       "    </tr>\n",
       "    <tr>\n",
       "      <th>1</th>\n",
       "      <td>42101000102</td>\n",
       "      <td>Census Tract 1.02, Philadelphia County, Pennsy...</td>\n",
       "      <td>ACSSF</td>\n",
       "      <td>pa</td>\n",
       "      <td>140</td>\n",
       "      <td>0</td>\n",
       "      <td>8808</td>\n",
       "      <td>42</td>\n",
       "      <td>101</td>\n",
       "      <td>102</td>\n",
       "      <td>...</td>\n",
       "      <td>0</td>\n",
       "      <td>48</td>\n",
       "      <td>35</td>\n",
       "      <td>91.24</td>\n",
       "      <td>2.98</td>\n",
       "      <td>0.00</td>\n",
       "      <td>2.76</td>\n",
       "      <td>0.0</td>\n",
       "      <td>1.74</td>\n",
       "      <td>1.27</td>\n",
       "    </tr>\n",
       "    <tr>\n",
       "      <th>2</th>\n",
       "      <td>42101000200</td>\n",
       "      <td>Census Tract 2, Philadelphia County, Pennsylvania</td>\n",
       "      <td>ACSSF</td>\n",
       "      <td>pa</td>\n",
       "      <td>140</td>\n",
       "      <td>0</td>\n",
       "      <td>8809</td>\n",
       "      <td>42</td>\n",
       "      <td>101</td>\n",
       "      <td>200</td>\n",
       "      <td>...</td>\n",
       "      <td>0</td>\n",
       "      <td>3</td>\n",
       "      <td>235</td>\n",
       "      <td>31.14</td>\n",
       "      <td>6.59</td>\n",
       "      <td>0.00</td>\n",
       "      <td>55.30</td>\n",
       "      <td>0.0</td>\n",
       "      <td>0.09</td>\n",
       "      <td>6.88</td>\n",
       "    </tr>\n",
       "    <tr>\n",
       "      <th>3</th>\n",
       "      <td>42101000300</td>\n",
       "      <td>Census Tract 3, Philadelphia County, Pennsylvania</td>\n",
       "      <td>ACSSF</td>\n",
       "      <td>pa</td>\n",
       "      <td>140</td>\n",
       "      <td>0</td>\n",
       "      <td>8810</td>\n",
       "      <td>42</td>\n",
       "      <td>101</td>\n",
       "      <td>300</td>\n",
       "      <td>...</td>\n",
       "      <td>0</td>\n",
       "      <td>56</td>\n",
       "      <td>405</td>\n",
       "      <td>63.63</td>\n",
       "      <td>6.11</td>\n",
       "      <td>0.08</td>\n",
       "      <td>17.25</td>\n",
       "      <td>0.0</td>\n",
       "      <td>1.57</td>\n",
       "      <td>11.36</td>\n",
       "    </tr>\n",
       "    <tr>\n",
       "      <th>4</th>\n",
       "      <td>42101000401</td>\n",
       "      <td>Census Tract 4.01, Philadelphia County, Pennsy...</td>\n",
       "      <td>ACSSF</td>\n",
       "      <td>pa</td>\n",
       "      <td>140</td>\n",
       "      <td>0</td>\n",
       "      <td>8811</td>\n",
       "      <td>42</td>\n",
       "      <td>101</td>\n",
       "      <td>401</td>\n",
       "      <td>...</td>\n",
       "      <td>0</td>\n",
       "      <td>0</td>\n",
       "      <td>128</td>\n",
       "      <td>61.99</td>\n",
       "      <td>14.57</td>\n",
       "      <td>0.00</td>\n",
       "      <td>18.46</td>\n",
       "      <td>0.0</td>\n",
       "      <td>0.00</td>\n",
       "      <td>4.97</td>\n",
       "    </tr>\n",
       "  </tbody>\n",
       "</table>\n",
       "<p>5 rows × 27 columns</p>\n",
       "</div>"
      ],
      "text/plain": [
       "      Geo_FIPS                                          Geo_QName Geo_FILEID  \\\n",
       "0  42101000101  Census Tract 1.01, Philadelphia County, Pennsy...      ACSSF   \n",
       "1  42101000102  Census Tract 1.02, Philadelphia County, Pennsy...      ACSSF   \n",
       "2  42101000200  Census Tract 2, Philadelphia County, Pennsylvania      ACSSF   \n",
       "3  42101000300  Census Tract 3, Philadelphia County, Pennsylvania      ACSSF   \n",
       "4  42101000401  Census Tract 4.01, Philadelphia County, Pennsy...      ACSSF   \n",
       "\n",
       "  Geo_STUSAB  Geo_SUMLEV  Geo_GEOCOMP  Geo_LOGRECNO  Geo_STATE  Geo_COUNTY  \\\n",
       "0         pa         140            0          8807         42         101   \n",
       "1         pa         140            0          8808         42         101   \n",
       "2         pa         140            0          8809         42         101   \n",
       "3         pa         140            0          8810         42         101   \n",
       "4         pa         140            0          8811         42         101   \n",
       "\n",
       "   Geo_TRACT  ... SE_A03001_006 SE_A03001_007  SE_A03001_008  \\\n",
       "0        101  ...             0            99             37   \n",
       "1        102  ...             0            48             35   \n",
       "2        200  ...             0             3            235   \n",
       "3        300  ...             0            56            405   \n",
       "4        401  ...             0             0            128   \n",
       "\n",
       "   PCT_SE_A03001_002  PCT_SE_A03001_003  PCT_SE_A03001_004  PCT_SE_A03001_005  \\\n",
       "0              83.98               1.40               0.00               7.83   \n",
       "1              91.24               2.98               0.00               2.76   \n",
       "2              31.14               6.59               0.00              55.30   \n",
       "3              63.63               6.11               0.08              17.25   \n",
       "4              61.99              14.57               0.00              18.46   \n",
       "\n",
       "   PCT_SE_A03001_006  PCT_SE_A03001_007  PCT_SE_A03001_008  \n",
       "0                0.0               4.94               1.85  \n",
       "1                0.0               1.74               1.27  \n",
       "2                0.0               0.09               6.88  \n",
       "3                0.0               1.57              11.36  \n",
       "4                0.0               0.00               4.97  \n",
       "\n",
       "[5 rows x 27 columns]"
      ]
     },
     "execution_count": 12,
     "metadata": {},
     "output_type": "execute_result"
    }
   ],
   "source": [
    "race.head()"
   ]
  },
  {
   "cell_type": "markdown",
   "id": "bdd17c55-8de7-4c15-9a57-d2816b8b6fb1",
   "metadata": {},
   "source": [
    "#### Working with the Census Data Dictionary"
   ]
  },
  {
   "cell_type": "markdown",
   "id": "b0ba272e-990b-4bb1-b7e1-85ee6666c4f6",
   "metadata": {},
   "source": [
    "##### Define Columns to Keep"
   ]
  },
  {
   "cell_type": "markdown",
   "id": "9f907261-3ea7-4da7-a07e-54775edb5741",
   "metadata": {},
   "source": [
    "In this session, the ACS 2021 \"Race by Ethnicity\" columns (listed below) are being analyzed. \n",
    "\n",
    "Geo_FIPS: Geographic FIPS identifier\n",
    "- SE_A03001_001: Total Population\n",
    "- SE_A03001_002: Non Hispanic White Alone\n",
    "- SE_A03001_003: Non Hispanic Black or African American Alone \n",
    "- SE_A03001_004: Non Hispanic American Indian and Alaska Native Alone\n",
    "- SE_A03001_005: Non Hispanic Asian Alone\n",
    "- SE_A03001_006: Non Hispanic Native Hawaiian and Pacific Islander Alone\n",
    "- SE_A03001_007: Non Hispanic Other Alone\n",
    "- SE_A03001_008: Non Hispanic Multi Race\n",
    "- PCT_A03001_002: % White Alone\n",
    "- PCT_A03001_003: % Black or African American Alone\n",
    "- PCT_A03001_004: % American Indian and Alaska Native Alone\n",
    "- PCT_A03001_005: % Asian Alone\n",
    "- PCT_A03001_006: % Native Hawaiian and Other Pacific Islander Alone\n",
    "- PCT_A03001_007: % Some Other Race Alone\n",
    "- PCT_A03001_008: % Two or More Races\n"
   ]
  },
  {
   "cell_type": "markdown",
   "id": "b01fcc58-7252-4a80-848d-2745e3bcf77d",
   "metadata": {},
   "source": [
    "Create a subset of our dataframe and create a new dataframe"
   ]
  },
  {
   "cell_type": "code",
   "execution_count": 13,
   "id": "0deb27b9-0233-45a5-807c-0cf04db415d6",
   "metadata": {},
   "outputs": [
    {
     "ename": "KeyError",
     "evalue": "\"['PCT_A03001_002', 'PCT_A03001_003', 'PCT_A03001_004', 'PCT_A03001_005', 'PCT_A03001_006', 'PCT_A03001_007', 'PCT_A03001_008'] not in index\"",
     "output_type": "error",
     "traceback": [
      "\u001b[0;31m---------------------------------------------------------------------------\u001b[0m",
      "\u001b[0;31mKeyError\u001b[0m                                  Traceback (most recent call last)",
      "Cell \u001b[0;32mIn[13], line 18\u001b[0m\n\u001b[1;32m      1\u001b[0m columns_to_keep \u001b[38;5;241m=\u001b[39m [\u001b[38;5;124m'\u001b[39m\u001b[38;5;124mGeo_FIPS\u001b[39m\u001b[38;5;124m'\u001b[39m,\n\u001b[1;32m      2\u001b[0m                    \u001b[38;5;124m'\u001b[39m\u001b[38;5;124mSE_A03001_001\u001b[39m\u001b[38;5;124m'\u001b[39m,\n\u001b[1;32m      3\u001b[0m                    \u001b[38;5;124m'\u001b[39m\u001b[38;5;124mSE_A03001_002\u001b[39m\u001b[38;5;124m'\u001b[39m,\n\u001b[0;32m   (...)\u001b[0m\n\u001b[1;32m     15\u001b[0m                    \u001b[38;5;124m'\u001b[39m\u001b[38;5;124mPCT_A03001_007\u001b[39m\u001b[38;5;124m'\u001b[39m,\n\u001b[1;32m     16\u001b[0m                    \u001b[38;5;124m'\u001b[39m\u001b[38;5;124mPCT_A03001_008\u001b[39m\u001b[38;5;124m'\u001b[39m]\n\u001b[0;32m---> 18\u001b[0m race2 \u001b[38;5;241m=\u001b[39m \u001b[43mrace\u001b[49m\u001b[43m[\u001b[49m\u001b[43mcolumns_to_keep\u001b[49m\u001b[43m]\u001b[49m\n",
      "File \u001b[0;32m/opt/conda/lib/python3.10/site-packages/pandas/core/frame.py:3811\u001b[0m, in \u001b[0;36mDataFrame.__getitem__\u001b[0;34m(self, key)\u001b[0m\n\u001b[1;32m   3809\u001b[0m     \u001b[38;5;28;01mif\u001b[39;00m is_iterator(key):\n\u001b[1;32m   3810\u001b[0m         key \u001b[38;5;241m=\u001b[39m \u001b[38;5;28mlist\u001b[39m(key)\n\u001b[0;32m-> 3811\u001b[0m     indexer \u001b[38;5;241m=\u001b[39m \u001b[38;5;28;43mself\u001b[39;49m\u001b[38;5;241;43m.\u001b[39;49m\u001b[43mcolumns\u001b[49m\u001b[38;5;241;43m.\u001b[39;49m\u001b[43m_get_indexer_strict\u001b[49m\u001b[43m(\u001b[49m\u001b[43mkey\u001b[49m\u001b[43m,\u001b[49m\u001b[43m \u001b[49m\u001b[38;5;124;43m\"\u001b[39;49m\u001b[38;5;124;43mcolumns\u001b[39;49m\u001b[38;5;124;43m\"\u001b[39;49m\u001b[43m)\u001b[49m[\u001b[38;5;241m1\u001b[39m]\n\u001b[1;32m   3813\u001b[0m \u001b[38;5;66;03m# take() does not accept boolean indexers\u001b[39;00m\n\u001b[1;32m   3814\u001b[0m \u001b[38;5;28;01mif\u001b[39;00m \u001b[38;5;28mgetattr\u001b[39m(indexer, \u001b[38;5;124m\"\u001b[39m\u001b[38;5;124mdtype\u001b[39m\u001b[38;5;124m\"\u001b[39m, \u001b[38;5;28;01mNone\u001b[39;00m) \u001b[38;5;241m==\u001b[39m \u001b[38;5;28mbool\u001b[39m:\n",
      "File \u001b[0;32m/opt/conda/lib/python3.10/site-packages/pandas/core/indexes/base.py:6113\u001b[0m, in \u001b[0;36mIndex._get_indexer_strict\u001b[0;34m(self, key, axis_name)\u001b[0m\n\u001b[1;32m   6110\u001b[0m \u001b[38;5;28;01melse\u001b[39;00m:\n\u001b[1;32m   6111\u001b[0m     keyarr, indexer, new_indexer \u001b[38;5;241m=\u001b[39m \u001b[38;5;28mself\u001b[39m\u001b[38;5;241m.\u001b[39m_reindex_non_unique(keyarr)\n\u001b[0;32m-> 6113\u001b[0m \u001b[38;5;28;43mself\u001b[39;49m\u001b[38;5;241;43m.\u001b[39;49m\u001b[43m_raise_if_missing\u001b[49m\u001b[43m(\u001b[49m\u001b[43mkeyarr\u001b[49m\u001b[43m,\u001b[49m\u001b[43m \u001b[49m\u001b[43mindexer\u001b[49m\u001b[43m,\u001b[49m\u001b[43m \u001b[49m\u001b[43maxis_name\u001b[49m\u001b[43m)\u001b[49m\n\u001b[1;32m   6115\u001b[0m keyarr \u001b[38;5;241m=\u001b[39m \u001b[38;5;28mself\u001b[39m\u001b[38;5;241m.\u001b[39mtake(indexer)\n\u001b[1;32m   6116\u001b[0m \u001b[38;5;28;01mif\u001b[39;00m \u001b[38;5;28misinstance\u001b[39m(key, Index):\n\u001b[1;32m   6117\u001b[0m     \u001b[38;5;66;03m# GH 42790 - Preserve name from an Index\u001b[39;00m\n",
      "File \u001b[0;32m/opt/conda/lib/python3.10/site-packages/pandas/core/indexes/base.py:6176\u001b[0m, in \u001b[0;36mIndex._raise_if_missing\u001b[0;34m(self, key, indexer, axis_name)\u001b[0m\n\u001b[1;32m   6173\u001b[0m     \u001b[38;5;28;01mraise\u001b[39;00m \u001b[38;5;167;01mKeyError\u001b[39;00m(\u001b[38;5;124mf\u001b[39m\u001b[38;5;124m\"\u001b[39m\u001b[38;5;124mNone of [\u001b[39m\u001b[38;5;132;01m{\u001b[39;00mkey\u001b[38;5;132;01m}\u001b[39;00m\u001b[38;5;124m] are in the [\u001b[39m\u001b[38;5;132;01m{\u001b[39;00maxis_name\u001b[38;5;132;01m}\u001b[39;00m\u001b[38;5;124m]\u001b[39m\u001b[38;5;124m\"\u001b[39m)\n\u001b[1;32m   6175\u001b[0m not_found \u001b[38;5;241m=\u001b[39m \u001b[38;5;28mlist\u001b[39m(ensure_index(key)[missing_mask\u001b[38;5;241m.\u001b[39mnonzero()[\u001b[38;5;241m0\u001b[39m]]\u001b[38;5;241m.\u001b[39munique())\n\u001b[0;32m-> 6176\u001b[0m \u001b[38;5;28;01mraise\u001b[39;00m \u001b[38;5;167;01mKeyError\u001b[39;00m(\u001b[38;5;124mf\u001b[39m\u001b[38;5;124m\"\u001b[39m\u001b[38;5;132;01m{\u001b[39;00mnot_found\u001b[38;5;132;01m}\u001b[39;00m\u001b[38;5;124m not in index\u001b[39m\u001b[38;5;124m\"\u001b[39m)\n",
      "\u001b[0;31mKeyError\u001b[0m: \"['PCT_A03001_002', 'PCT_A03001_003', 'PCT_A03001_004', 'PCT_A03001_005', 'PCT_A03001_006', 'PCT_A03001_007', 'PCT_A03001_008'] not in index\""
     ]
    }
   ],
   "source": [
    "columns_to_keep = ['Geo_FIPS',\n",
    "                   'SE_A03001_001',\n",
    "                   'SE_A03001_002',\n",
    "                   'SE_A03001_003',\n",
    "                   'SE_A03001_004',\n",
    "                   'SE_A03001_005',\n",
    "                   'SE_A03001_006',\n",
    "                   'SE_A03001_007',\n",
    "                   'SE_A03001_008',\n",
    "                   'PCT_A03001_002',\n",
    "                   'PCT_A03001_003',\n",
    "                   'PCT_A03001_004',\n",
    "                   'PCT_A03001_005',\n",
    "                   'PCT_A03001_006', \n",
    "                   'PCT_A03001_007',\n",
    "                   'PCT_A03001_008']\n",
    "\n",
    "race2 = race[columns_to_keep]"
   ]
  },
  {
   "cell_type": "markdown",
   "id": "10a99ba9-a8d1-4230-aad4-ff633a2cac7e",
   "metadata": {},
   "source": [
    "Rename the kept columns. Begin by creating a list of columns as they are now"
   ]
  },
  {
   "cell_type": "code",
   "execution_count": null,
   "id": "95d401dc-3980-4655-95c3-b4b23ca447bb",
   "metadata": {},
   "outputs": [],
   "source": [
    "columns = list(race2) # this is the same as race.columns.to_list()\n",
    "columns"
   ]
  },
  {
   "cell_type": "markdown",
   "id": "c19cefe1-753d-43bd-b866-3d902ba1fa50",
   "metadata": {},
   "source": [
    "Replace the values with desired column names"
   ]
  },
  {
   "cell_type": "code",
   "execution_count": null,
   "id": "2d99432d-7bc3-4427-991c-ac81dcc31ecf",
   "metadata": {},
   "outputs": [],
   "source": [
    "race2.columns = ['FIPS',\n",
    "'Total Population',\n",
    "'White',\n",
    "'Black',\n",
    "'American Indian and Alaska Native',\n",
    "'Asian',\n",
    "'Native Hawaiian and Pacific Islander',\n",
    "'Other Race',\n",
    "'Multi Race'\n",
    "'Percent White'\n",
    "'Percent Black',\n",
    "'Percent American Indian and Alaska Native',\n",
    "'Percent Asian',\n",
    "'Percent Native Hawaiian and Other Pacific Islander',\n",
    "'Percent Other Race'\n",
    "'Percent Two or More Races']"
   ]
  },
  {
   "cell_type": "code",
   "execution_count": null,
   "id": "b1bf0b30-ae8b-4d46-b6dc-e870fe669e96",
   "metadata": {},
   "outputs": [],
   "source": [
    "race2.sample(5)"
   ]
  },
  {
   "cell_type": "markdown",
   "id": "69a438a8-c97e-45a1-ad6a-35c7f9f08aaa",
   "metadata": {},
   "source": [
    "Columns have been renamed correctly."
   ]
  },
  {
   "cell_type": "markdown",
   "id": "decfa7b2-c22d-4511-9c42-473a77dba34c",
   "metadata": {},
   "source": [
    "#### Philadelphia race stats and plots "
   ]
  },
  {
   "cell_type": "markdown",
   "id": "d3621428-c81c-43c8-a8e2-28cb266ff1aa",
   "metadata": {},
   "source": [
    "View the Total Population Mean of Philadelphia County"
   ]
  },
  {
   "cell_type": "code",
   "execution_count": null,
   "id": "1891ea29-108c-4ec2-a43e-5b1091ba8c4d",
   "metadata": {},
   "outputs": [],
   "source": [
    "race2['Total Population'].mean()"
   ]
  },
  {
   "cell_type": "markdown",
   "id": "a4363302-4943-4565-a6d8-769d6c22a42e",
   "metadata": {},
   "source": [
    "View the Total Population Media of Philadelphia County"
   ]
  },
  {
   "cell_type": "code",
   "execution_count": null,
   "id": "73dfae88-e9a3-4399-b4f5-afaeb5715b6e",
   "metadata": {},
   "outputs": [],
   "source": [
    "race2['Total Population'].median()"
   ]
  },
  {
   "cell_type": "markdown",
   "id": "2c313e89-e7fe-483a-b3bd-3a0256ffe4c0",
   "metadata": {},
   "source": [
    "View more stats available for total population of Philadeliphia County"
   ]
  },
  {
   "cell_type": "code",
   "execution_count": null,
   "id": "5f8d93db-1d8f-46a8-b681-3618e41333d2",
   "metadata": {},
   "outputs": [],
   "source": [
    "race2['Total Population'].describe()"
   ]
  },
  {
   "cell_type": "markdown",
   "id": "e15f8fac-d23d-4999-bc36-ea1706febf70",
   "metadata": {},
   "source": [
    "Plot it as a historgram with 50 bins\n"
   ]
  },
  {
   "cell_type": "code",
   "execution_count": null,
   "id": "adee2b38-ecfc-45b7-be20-6d9990cf3120",
   "metadata": {},
   "outputs": [],
   "source": [
    "race2['Total Population'].plot.hist(bins=50)"
   ]
  },
  {
   "cell_type": "markdown",
   "id": "bd7b6494-ffcc-4a50-9953-6b159d2526ad",
   "metadata": {},
   "source": [
    "Histogram on Non Hispanic White Alone across Philadelphia County"
   ]
  },
  {
   "cell_type": "code",
   "execution_count": null,
   "id": "69eb81c2-7760-491b-992e-7b55efd3c76c",
   "metadata": {},
   "outputs": [],
   "source": [
    "race2['White'].plot.hist(bins=50)"
   ]
  },
  {
   "cell_type": "markdown",
   "id": "c67c6620-be4a-48e2-a4dc-5c6dd19a34f3",
   "metadata": {},
   "source": [
    "Histogram on Non Hispanic Black Alone Population in Philadelphia County"
   ]
  },
  {
   "cell_type": "code",
   "execution_count": null,
   "id": "873615bd-4342-4aca-acbe-c5fb56413b3c",
   "metadata": {},
   "outputs": [],
   "source": [
    "race2['Black'].plot.hist(bins=50)"
   ]
  },
  {
   "cell_type": "markdown",
   "id": "a43c0bf6-9a72-4401-be2e-cd8508ba13b9",
   "metadata": {},
   "source": [
    "Box plot of Philadelphia County Population"
   ]
  },
  {
   "cell_type": "code",
   "execution_count": null,
   "id": "8499a19d-528d-4dac-8963-ae2ec3cf024a",
   "metadata": {},
   "outputs": [],
   "source": [
    "race2.boxplot(column=['Total Population'])"
   ]
  },
  {
   "cell_type": "markdown",
   "id": "666f309c-ed8f-415a-aa8c-63fdf72a2fad",
   "metadata": {},
   "source": [
    "Scatter Plot of Non Hispanic Black Alone and Non Hispanic White Alone populations in Philadelphia County"
   ]
  },
  {
   "cell_type": "code",
   "execution_count": null,
   "id": "a700c243-5fc6-417c-96e0-2cd0d53ad277",
   "metadata": {},
   "outputs": [],
   "source": [
    "race2.plot.scatter(x='Black',y='White')"
   ]
  },
  {
   "cell_type": "markdown",
   "id": "66169be6-4657-4538-8f7f-a79b11e46383",
   "metadata": {},
   "source": [
    "Scatter Plot of Non Hispanic Black Alone and Non Hispanic American Indian and Alaska Native Alone populations in Philadelphia County"
   ]
  },
  {
   "cell_type": "code",
   "execution_count": null,
   "id": "a0fdbb2e-fb75-4aa2-91b4-da56ba919609",
   "metadata": {},
   "outputs": [],
   "source": [
    "race2.plot.scatter(x='Black',y='American Indian and Alaska Native')"
   ]
  },
  {
   "cell_type": "markdown",
   "id": "ceef6ce7-66fd-455b-9bad-867d42f5a715",
   "metadata": {},
   "source": [
    "#### Sorting"
   ]
  },
  {
   "cell_type": "markdown",
   "id": "452926bb-7eeb-47c4-a5f1-c30b9b0537a6",
   "metadata": {},
   "source": [
    "Sort the data by their respective columns"
   ]
  },
  {
   "cell_type": "code",
   "execution_count": null,
   "id": "28902d66-bba6-48c4-bad4-8040a68f0217",
   "metadata": {},
   "outputs": [],
   "source": [
    "race_sorted = race2.sort_values(by='Total Population',ascending = False)"
   ]
  },
  {
   "cell_type": "markdown",
   "id": "8f516599-5ff1-4115-8c51-5140cc3beac3",
   "metadata": {},
   "source": [
    "Display a few columns of the sorted data"
   ]
  },
  {
   "cell_type": "code",
   "execution_count": null,
   "id": "c578382f-75e2-49bc-8eb8-9a8cab152218",
   "metadata": {},
   "outputs": [],
   "source": [
    "race_sorted[['FIPS','Total Population']].head(10)"
   ]
  },
  {
   "cell_type": "markdown",
   "id": "75bd1370-ab59-446d-a78a-98529b95a4f1",
   "metadata": {},
   "source": [
    "Plot it"
   ]
  },
  {
   "cell_type": "code",
   "execution_count": null,
   "id": "446caca9-bd7b-41c7-8f4b-5f933f3074bc",
   "metadata": {},
   "outputs": [],
   "source": [
    "race_sorted.head(10).plot.bar(x='FIPS',\n",
    "                            y='Total Population')"
   ]
  },
  {
   "cell_type": "markdown",
   "id": "d3639dcb-b35d-45ca-a977-6d9a5ef1e90d",
   "metadata": {},
   "source": [
    "Add a Title"
   ]
  },
  {
   "cell_type": "code",
   "execution_count": null,
   "id": "313a64f6-3c8c-4979-b350-267cc7916f8e",
   "metadata": {},
   "outputs": [],
   "source": [
    "race_sorted.head(10).plot.barh(x='FIPS',\n",
    "                            y='Total Population', \n",
    "                            title='Top 10 Census Tracts with Highest Population in Philadelphia County in 2021',\n",
    "                            color='green')"
   ]
  },
  {
   "cell_type": "markdown",
   "id": "405403c9-5843-4e43-a732-dd9da4cb72cb",
   "metadata": {},
   "source": [
    "#### Filtering and Subsetting the Data"
   ]
  },
  {
   "cell_type": "markdown",
   "id": "34bb1b38-6834-4322-96ab-47b7a8dc9eb8",
   "metadata": {},
   "source": [
    "Subset the data so that we can see the data per row"
   ]
  },
  {
   "cell_type": "code",
   "execution_count": null,
   "id": "40255224-0f22-4209-af27-12a90ac16c1f",
   "metadata": {},
   "outputs": [],
   "source": [
    "race2[race2['Total Population']==0]"
   ]
  },
  {
   "cell_type": "markdown",
   "id": "bbe668d0-116b-418b-b181-37591b393d71",
   "metadata": {},
   "source": [
    "Create a new variable for census tracts with zero population in Philadelphia County"
   ]
  },
  {
   "cell_type": "code",
   "execution_count": null,
   "id": "61c79179-e326-4e9c-a489-0907e979f583",
   "metadata": {},
   "outputs": [],
   "source": [
    "race_no_pop = race2[race2['Total Population']==0]"
   ]
  },
  {
   "cell_type": "markdown",
   "id": "8833ebb6-7272-4bd3-a0e8-bef1e6403d0c",
   "metadata": {},
   "source": [
    "How many records?"
   ]
  },
  {
   "cell_type": "code",
   "execution_count": null,
   "id": "ecd5ff6c-3d2e-4651-a6ac-ca42a34aa193",
   "metadata": {},
   "outputs": [],
   "source": [
    "print('There are ' + str(len(race_no_pop)) + ' census tracts with no people in them')"
   ]
  },
  {
   "cell_type": "markdown",
   "id": "59190a5f-33d4-4272-af7f-72fdaad6a809",
   "metadata": {},
   "source": [
    "Display it"
   ]
  },
  {
   "cell_type": "code",
   "execution_count": null,
   "id": "93cb06f1-7df2-4f0f-9b55-0b8acaae2987",
   "metadata": {},
   "outputs": [],
   "source": [
    "race_no_pop[['FIPS','Total Population']]"
   ]
  },
  {
   "cell_type": "markdown",
   "id": "eb67549f-34a2-4cdc-83fd-eb31badc6fe8",
   "metadata": {},
   "source": [
    "#### Create a subset of data for the logan Neighborhood"
   ]
  },
  {
   "cell_type": "code",
   "execution_count": null,
   "id": "6674c0a5-5734-456f-9b28-ac2bbd9213a3",
   "metadata": {},
   "outputs": [],
   "source": [
    "# Specify the desired FIPS by their IDs\n",
    "subset = [42101028000, 42101028100, 42101028200, 42101028300, 42101028400, 42101028500]\n",
    "\n",
    "# Create a subset of the data for the desired FIPS\n",
    "subset = race[race2[\"FIPS\"].isin(subset)]\n",
    "\n",
    "# Save the subset to a new CSV file\n",
    "subset.to_csv(\"census_subset.csv\", index=False)"
   ]
  },
  {
   "cell_type": "code",
   "execution_count": null,
   "id": "64259375-d68a-422b-8830-4add2665fbb3",
   "metadata": {},
   "outputs": [],
   "source": [
    "subset.info()"
   ]
  },
  {
   "cell_type": "markdown",
   "id": "8b1a0f1f-0151-4626-b9e4-44a935744f93",
   "metadata": {},
   "source": [
    "This subset of data contains columns we don't need"
   ]
  },
  {
   "cell_type": "code",
   "execution_count": null,
   "id": "bcde7783-0c64-4646-a1de-644b59cc2177",
   "metadata": {},
   "outputs": [],
   "source": [
    "columns_to_keep = ['Geo_FIPS',\n",
    "                   'SE_A03001_001',\n",
    "                   'SE_A03001_002',\n",
    "                   'SE_A03001_003',\n",
    "                   'SE_A03001_004',\n",
    "                   'SE_A03001_005',\n",
    "                   'SE_A03001_006',\n",
    "                   'SE_A03001_007',\n",
    "                   'SE_A03001_008',]\n",
    "\n",
    "subset2 = subset[columns_to_keep]"
   ]
  },
  {
   "cell_type": "markdown",
   "id": "6a1c63af-7230-46ae-89e1-a0f1af6fe4f7",
   "metadata": {},
   "source": [
    "Rename the kept columns. Begin by creating a list of columns as they are now"
   ]
  },
  {
   "cell_type": "code",
   "execution_count": null,
   "id": "a65491f5-5876-46bf-9cf4-34008810e6f9",
   "metadata": {},
   "outputs": [],
   "source": [
    "columns = list(subset2) # this is the same as race.columns.to_list()\n",
    "columns\n",
    "\n",
    "['Geo_FIPS',\n",
    " 'SE_A03001_001',\n",
    " 'SE_A03001_002',\n",
    " 'SE_A03001_003',\n",
    " 'SE_A03001_004',\n",
    " 'SE_A03001_005',\n",
    " 'SE_A03001_006',\n",
    " 'SE_A03001_007',\n",
    " 'SE_A03001_008']\n"
   ]
  },
  {
   "cell_type": "markdown",
   "id": "c31fd9a2-ead1-4be9-ad44-fc30f6a11d46",
   "metadata": {},
   "source": [
    "Replace the values with desired column names"
   ]
  },
  {
   "cell_type": "code",
   "execution_count": null,
   "id": "65f507e9-ee5c-4e99-a6b3-055bb9f3ed22",
   "metadata": {},
   "outputs": [],
   "source": [
    "subset2.columns = ['FIPS',\n",
    "'Total Population',\n",
    "'White',\n",
    "'Black',\n",
    "'American Indian and Alaska Native',\n",
    "'Asian',\n",
    "'Native Hawaiian and Pacific Islander',\n",
    "'Other Race',\n",
    "'Multi Race']"
   ]
  },
  {
   "cell_type": "markdown",
   "id": "da223ce7-a00f-448c-b168-11d6b3d0df2b",
   "metadata": {},
   "source": [
    "Check sample to see if rename worked"
   ]
  },
  {
   "cell_type": "code",
   "execution_count": null,
   "id": "e6045cd7-818f-443a-b4d1-d84433599aff",
   "metadata": {},
   "outputs": [],
   "source": [
    "subset2.sample(5)"
   ]
  },
  {
   "cell_type": "markdown",
   "id": "b2328832-9746-4b6c-bc77-d045cddda679",
   "metadata": {},
   "source": [
    "success! "
   ]
  },
  {
   "cell_type": "markdown",
   "id": "8bea86cc-0152-4a31-914b-c32a52a4c81a",
   "metadata": {},
   "source": [
    "### Narrowing Race Variables to compare with 1940 racial demographics"
   ]
  },
  {
   "cell_type": "markdown",
   "id": "c024049d-335e-4e8d-b7db-36e15e269a66",
   "metadata": {},
   "source": [
    "Due to the 1940 race data only having \"White\", \"Black\", and \"other Race\", we will combine those columns for the 2021 data, to show a comparison. "
   ]
  },
  {
   "cell_type": "code",
   "execution_count": null,
   "id": "c67a8136-20df-4483-928e-0866a50f45c3",
   "metadata": {},
   "outputs": [],
   "source": [
    "subset2[\"Other\"] = subset2[[\"American Indian and Alaska Native\", \"Asian\", \"Native Hawaiian and Pacific Islander\", \"Other Race\", \"Multi Race\"]].sum(axis=1)\n",
    "subset2.drop(columns=[\"American Indian and Alaska Native\", \"Asian\", \"Native Hawaiian and Pacific Islander\", \"Other Race\", \"Multi Race\"], inplace=True)\n"
   ]
  },
  {
   "cell_type": "markdown",
   "id": "7c22cb81-429c-4254-ad51-6f3bb7af8b07",
   "metadata": {},
   "source": [
    "Now let's create stacked bar chart!"
   ]
  },
  {
   "cell_type": "code",
   "execution_count": null,
   "id": "42deb4c2-8fe2-4955-9fe5-271a8c5701a4",
   "metadata": {},
   "outputs": [],
   "source": [
    "# Convert the \"FIPS\" column in the CSV subset to string data type (object)\n",
    "subset2['FIPS'] = subset2['FIPS'].astype(str)\n",
    "\n",
    "# set the FIPS column as the index\n",
    "subset2.set_index('FIPS', inplace=True)\n",
    "\n",
    "# remove the 'total population' column\n",
    "subset2.drop('Total Population', axis=1, inplace=True)\n",
    "\n",
    "# define a list of custom colors\n",
    "colors = ['#ABD9B5', '#2C8EBF', '#008080']\n",
    "\n",
    "# plot the stacked bar chart with custom colors\n",
    "ax = subset2.plot(kind='bar', stacked=True, color=colors)\n",
    "\n",
    "# set the axis labels and title\n",
    "ax.set_xlabel('Census Tract')\n",
    "ax.set_ylabel('Population')\n",
    "ax.set_title('Logan Demographic Distribution by Race Category, 2021')\n",
    "\n",
    "# show the chart\n",
    "plt.show()"
   ]
  },
  {
   "cell_type": "markdown",
   "id": "7a66a5fd-a68c-4d57-ad18-b8a1a1911a50",
   "metadata": {},
   "source": [
    "#### Importing Census Tract Geojson File"
   ]
  },
  {
   "cell_type": "code",
   "execution_count": null,
   "id": "cd27d87e-54c1-4d76-86d8-f6e335e38af7",
   "metadata": {},
   "outputs": [],
   "source": [
    "import geopandas as gpd\n",
    "import matplotlib.pyplot as plt"
   ]
  },
  {
   "cell_type": "markdown",
   "id": "7528e040-ba76-4f19-a3b5-ab5e79e18e96",
   "metadata": {},
   "source": [
    "Read in a geojson file downloaded from Open Data Philly \n"
   ]
  },
  {
   "cell_type": "code",
   "execution_count": null,
   "id": "fafc0658-6004-4fae-b34a-c9a15f2adf3a",
   "metadata": {},
   "outputs": [],
   "source": [
    "tracts=gpd.read_file('Census_Tracts_2010.geojson')\n",
    "tracts.head()"
   ]
  },
  {
   "cell_type": "markdown",
   "id": "bbc17a6c-5207-4976-a363-027425d691c2",
   "metadata": {},
   "source": [
    "plot the file"
   ]
  },
  {
   "cell_type": "code",
   "execution_count": null,
   "id": "506f0ba2-fc7b-45f2-93d9-af0a4397cf30",
   "metadata": {},
   "outputs": [],
   "source": [
    "tracts.plot(figsize=(12,10))"
   ]
  },
  {
   "cell_type": "markdown",
   "id": "92ee1327-afd4-4ab8-ac91-6701d19430d8",
   "metadata": {},
   "source": [
    "Learn more about this dataset"
   ]
  },
  {
   "cell_type": "code",
   "execution_count": null,
   "id": "2ccf9ca4-06c5-483a-a528-4ef135866ebc",
   "metadata": {},
   "outputs": [],
   "source": [
    "tracts.info(verbose=True, show_counts=True)"
   ]
  },
  {
   "cell_type": "markdown",
   "id": "b2902595-f1fb-482e-9109-3e2604e88a35",
   "metadata": {},
   "source": [
    "Only FIPS and geometry are needed, so subset the data"
   ]
  },
  {
   "cell_type": "code",
   "execution_count": null,
   "id": "d2893e09-d38b-4c38-a4b6-0afe2a068e14",
   "metadata": {},
   "outputs": [],
   "source": [
    "tracts2 = tracts[['TRACTCE10','geometry']]\n",
    "tracts2.head()"
   ]
  },
  {
   "cell_type": "markdown",
   "id": "b011f816-b20a-41fe-b257-c8c8463b2869",
   "metadata": {},
   "source": [
    "Create a FIPS column"
   ]
  },
  {
   "cell_type": "code",
   "execution_count": null,
   "id": "eb0b8a8d-84a8-4e67-86af-877462c66cdc",
   "metadata": {},
   "outputs": [],
   "source": [
    "tracts2['FIPS'] ='42'+'101'+tracts['TRACTCE10']"
   ]
  },
  {
   "cell_type": "code",
   "execution_count": null,
   "id": "8019c959-fa59-4e58-b92f-c857f1f251c9",
   "metadata": {},
   "outputs": [],
   "source": [
    "tracts2.head()"
   ]
  },
  {
   "cell_type": "markdown",
   "id": "c4d9f9b6-8b30-4827-b48b-282bb8bf3519",
   "metadata": {},
   "source": [
    "##### Merging/Joining Data"
   ]
  },
  {
   "cell_type": "markdown",
   "id": "f312a4f3-3ab6-4871-bba0-08adc935c13a",
   "metadata": {},
   "source": [
    "Create a new dataframe based on the join"
   ]
  },
  {
   "cell_type": "code",
   "execution_count": null,
   "id": "13d90d02-8e10-4b3d-8e1e-fd7b6de6dd94",
   "metadata": {},
   "outputs": [],
   "source": [
    "tracts2.dtypes"
   ]
  },
  {
   "cell_type": "code",
   "execution_count": null,
   "id": "e3996714-2c2b-4431-9bd5-228c7ee8194a",
   "metadata": {},
   "outputs": [],
   "source": [
    "race2.dtypes"
   ]
  },
  {
   "cell_type": "code",
   "execution_count": null,
   "id": "516e752e-d695-412b-9ade-64676d082e6d",
   "metadata": {},
   "outputs": [],
   "source": [
    "# Convert the \"FIPS\" column in the CSV to string data type (object)\n",
    "race2['FIPS'] = race2['FIPS'].astype(str)"
   ]
  },
  {
   "cell_type": "code",
   "execution_count": null,
   "id": "5a4abf3e-c18b-480f-8d38-a121638d16a3",
   "metadata": {},
   "outputs": [],
   "source": [
    "tracts2_race2=tracts2.merge(race2,on=\"FIPS\")"
   ]
  },
  {
   "cell_type": "code",
   "execution_count": null,
   "id": "63170ebc-421e-43b6-be97-c0a0b2a5d4b6",
   "metadata": {},
   "outputs": [],
   "source": [
    "tracts2_race2.head()"
   ]
  },
  {
   "cell_type": "markdown",
   "id": "7a8fc641-001e-4557-adff-e800006b346a",
   "metadata": {},
   "source": [
    "Create a merged data set with the Logan Neighborhood subset of data."
   ]
  },
  {
   "cell_type": "code",
   "execution_count": null,
   "id": "1caf08d6-d3e6-45ad-842a-792e5862e0eb",
   "metadata": {},
   "outputs": [],
   "source": [
    "tracts2_subset2=tracts2.merge(subset2,on=\"FIPS\")"
   ]
  },
  {
   "cell_type": "code",
   "execution_count": null,
   "id": "3209b57a-9020-4d60-bb06-32b292a90bb9",
   "metadata": {},
   "outputs": [],
   "source": [
    "subset2.info()"
   ]
  },
  {
   "cell_type": "markdown",
   "id": "76407156-d791-4738-8dc6-7528f102c048",
   "metadata": {},
   "source": [
    "#### Create Choropleth Maps"
   ]
  },
  {
   "cell_type": "markdown",
   "id": "1a651f5f-bd68-4f46-979b-8d5939b44131",
   "metadata": {},
   "source": [
    "Map Philadelphia Non Hispanic Black Alone population"
   ]
  },
  {
   "cell_type": "code",
   "execution_count": null,
   "id": "e764a9b4-c124-4b08-ba94-1c41e027a9f7",
   "metadata": {},
   "outputs": [],
   "source": [
    "tracts2_race2.plot(figsize=(12,10),\n",
    "                 column='Black',\n",
    "                 legend=True, \n",
    "                 scheme='NaturalBreaks')"
   ]
  },
  {
   "cell_type": "markdown",
   "id": "aaee80e8-d229-4a20-aed5-9edd36192157",
   "metadata": {},
   "source": [
    "Map Logan  Non Hispanic Black Alone population"
   ]
  },
  {
   "cell_type": "code",
   "execution_count": null,
   "id": "aa25f918-c2ce-40ef-8186-bea5b096bb01",
   "metadata": {},
   "outputs": [],
   "source": [
    "tracts2_subset2.plot(figsize=(12,10),\n",
    "                 column='Black',\n",
    "                 legend=True, \n",
    "                 scheme='NaturalBreaks')"
   ]
  },
  {
   "cell_type": "markdown",
   "id": "6b4cd4ce-1260-4059-b898-482a2fcb9271",
   "metadata": {},
   "source": [
    "The map outputs demonstrate that the Logan Neigbhorhood is located within a part of neighborhood that has a higher Non Hispanic Black Along population than other parts of Philadelphia"
   ]
  },
  {
   "cell_type": "markdown",
   "id": "78022291-5e22-4dd9-9191-8f6b44d9f54a",
   "metadata": {},
   "source": [
    "Try to view same race data through the \" Quantiles\" Scheme"
   ]
  },
  {
   "cell_type": "code",
   "execution_count": null,
   "id": "817483f9-96db-4836-acfe-e2fdbabffffc",
   "metadata": {},
   "outputs": [],
   "source": [
    "tracts2_race2.plot(figsize=(12,10),\n",
    "                 column='Black',\n",
    "                 legend=True, \n",
    "                 scheme='quantiles')"
   ]
  },
  {
   "cell_type": "code",
   "execution_count": null,
   "id": "0d151fc8-2700-4e49-8fb7-b4a3b12222b8",
   "metadata": {},
   "outputs": [],
   "source": [
    "tracts2_subset2.plot(figsize=(12,10),\n",
    "                 column='Black',\n",
    "                 legend=True, \n",
    "                 scheme='quantiles')"
   ]
  },
  {
   "cell_type": "markdown",
   "id": "ac3f9494-c920-455e-bbd0-697afbd347c4",
   "metadata": {},
   "source": [
    "#### Let's try to make a live folium map!"
   ]
  },
  {
   "cell_type": "markdown",
   "id": "cc6302a0-9e1a-4af1-b3b5-26f723cc600b",
   "metadata": {},
   "source": [
    "Finally, we can create the map using folium. We can use the Choropleth function from folium to create the map and plot the data on it"
   ]
  },
  {
   "cell_type": "code",
   "execution_count": null,
   "id": "f41355c8-0b8e-454c-922f-d7d268f7f2ca",
   "metadata": {},
   "outputs": [],
   "source": [
    "# Need to edit to add variable to be percent!!!"
   ]
  },
  {
   "cell_type": "code",
   "execution_count": null,
   "id": "5599186a-cc05-44e8-a125-2884a80bfaf3",
   "metadata": {},
   "outputs": [],
   "source": [
    "#import folium and it's plugin\n",
    "import folium\n",
    "from folium.plugins import MarkerCluster\n",
    "\n",
    "# Define initial map location as Philadelphia and zoom level\n",
    "# philadelphia center = 39.9526° N, 75.1652° W\n",
    "\n",
    "# Create a map object and set the tiles to Stamen TonerLite\n",
    "my_map = folium.Map(location=[39.9526, -75.1652], zoom_start=10, tiles='Stamen TonerLite', attr='Map tiles by Stamen Design, under CC BY 3.0. Data by OpenStreetMap, under ODbL.')\n",
    "\n",
    "# Add a choropleth layer to the map\n",
    "folium.Choropleth(\n",
    "    geo_data=tracts2_race2,\n",
    "    name='choropleth',\n",
    "    data=tracts2_race2,\n",
    "    columns=['FIPS', 'White'],\n",
    "    key_on='feature.properties.FIPS',\n",
    "    fill_color='YlGn',\n",
    "    fill_opacity=0.7,\n",
    "    line_opacity=0.2,\n",
    "    legend_name='Percent White',\n",
    "    highlight=True\n",
    ").add_to(my_map)\n",
    "\n",
    "# Display the map\n",
    "my_map\n"
   ]
  },
  {
   "cell_type": "markdown",
   "id": "142a2edc-bcc6-4f92-9b78-e0e098aef6da",
   "metadata": {},
   "source": [
    "Here, we are using the folium.Choropleth class to create a choropleth layer on the map. We pass in the merged data frame (tracts2_race2) as the geo_data parameter, and specify the FIPS and Percent White columns as the data columns for the choropleth using the columns parameter. The key_on parameter is set to feature.properties.FIPS to match the format of the FIPS code in the GeoJSON file. The fill_color parameter is set to 'YlGn' to specify the color scale for the choropleth."
   ]
  },
  {
   "cell_type": "markdown",
   "id": "eaba7bc8-0529-49ce-baad-934d2624be9f",
   "metadata": {},
   "source": [
    "I may need to adjust the fill_color, fill_opacity, and line_opacity parameters to get the desired visualization."
   ]
  },
  {
   "cell_type": "markdown",
   "id": "9a869c87-4c59-4518-9295-292f75e59f0f",
   "metadata": {},
   "source": [
    "To add multiple race layers to the map, you can use the LayerControl method from the folium.plugins module. This allows you to toggle different layers on and off in the map."
   ]
  },
  {
   "cell_type": "code",
   "execution_count": null,
   "id": "39fe4aec-c460-4865-8843-819a67cb5bb4",
   "metadata": {},
   "outputs": [],
   "source": [
    "import folium\n",
    "from folium.plugins import HeatMap, MarkerCluster, LayerControl\n",
    "\n",
    "# Create a map centered on the US\n",
    "m = folium.Map(location=[39.9526, 75.1652], zoom_start=4)\n",
    "\n",
    "# Create a HeatMap layer for each race\n",
    "heatmaps = {}\n",
    "for race in ['white', 'black', 'other']:\n",
    "    heatmaps[race] = HeatMap(tracts2_race2[['LATITUDE', 'LONGITUDE', f'{race}_pct']].values.tolist(),\n",
    "                             name=f'{race.capitalize()} Population',\n",
    "                             min_opacity=0.2,\n",
    "                             max_val=0.5,\n",
    "                             radius=7,\n",
    "                             blur=3,\n",
    "                             overlay=True,\n",
    "                             control=False).add_to(m)\n",
    "\n",
    "# Add a LayerControl to toggle the different race layers\n",
    "LayerControl(collapsed=False).add_to(m)\n",
    "\n",
    "# Show the map\n",
    "m\n"
   ]
  },
  {
   "cell_type": "code",
   "execution_count": null,
   "id": "9f1f8551-25ab-432d-b46b-3e9740425fb7",
   "metadata": {},
   "outputs": [],
   "source": [
    "#save as an html \n",
    "# m.save('LA_Black.html')"
   ]
  }
 ],
 "metadata": {
  "kernelspec": {
   "display_name": "Python 3 (ipykernel)",
   "language": "python",
   "name": "python3"
  },
  "language_info": {
   "codemirror_mode": {
    "name": "ipython",
    "version": 3
   },
   "file_extension": ".py",
   "mimetype": "text/x-python",
   "name": "python",
   "nbconvert_exporter": "python",
   "pygments_lexer": "ipython3",
   "version": "3.10.8"
  }
 },
 "nbformat": 4,
 "nbformat_minor": 5
}
